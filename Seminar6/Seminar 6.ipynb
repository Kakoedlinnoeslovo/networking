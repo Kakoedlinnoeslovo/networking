{
 "cells": [
  {
   "cell_type": "markdown",
   "metadata": {},
   "source": [
    "## Семинар 6: \"Архитектуры и transfer learning\""
   ]
  },
  {
   "cell_type": "markdown",
   "metadata": {},
   "source": [
    "ФИО:  Дегтярев Роман Олегович"
   ]
  },
  {
   "cell_type": "code",
   "execution_count": 1,
   "metadata": {
    "collapsed": true
   },
   "outputs": [],
   "source": [
    "import numpy as np\n",
    "from sklearn.datasets import fetch_mldata\n",
    "from sklearn.model_selection import train_test_split\n",
    "import matplotlib.pyplot as plt\n",
    "import torch\n",
    "from torch import nn\n",
    "from torch.autograd import Variable\n",
    "from torch.utils.data import DataLoader, Dataset\n",
    "from torchvision.datasets import MNIST\n",
    "from torchvision import transforms\n",
    "from torchvision import models\n",
    "import pandas as pd\n",
    "import os\n",
    "from skimage import io, transform\n",
    "from torchvision import models,transforms,datasets\n",
    "import time\n",
    "from tqdm import tqdm\n",
    "\n",
    "\n",
    "%matplotlib inline"
   ]
  },
  {
   "cell_type": "markdown",
   "metadata": {},
   "source": [
    "На этом семинаре мы попробуем улучшить результаты, полученные на занятии номер 3 с помощью Transfer Learning"
   ]
  },
  {
   "cell_type": "markdown",
   "metadata": {},
   "source": [
    "### Часть 1: Inference"
   ]
  },
  {
   "cell_type": "markdown",
   "metadata": {},
   "source": [
    "Пропустите картинки с лицами через предобученную на Imagenet \"сверточную часть\" AlexNet или VGG сетей и обучите на полученных данных один полносвязный слой."
   ]
  },
  {
   "cell_type": "code",
   "execution_count": 2,
   "metadata": {
    "collapsed": true
   },
   "outputs": [],
   "source": [
    "#зададим папки\n",
    "train_landmarks_path = 'dataset/train/face_landmarks.csv'\n",
    "train_path = 'dataset/train'\n",
    "test_landmarks_path = 'dataset/test/face_landmarks.csv'\n",
    "test_path = 'dataset/test'"
   ]
  },
  {
   "cell_type": "code",
   "execution_count": 5,
   "metadata": {
    "collapsed": true
   },
   "outputs": [],
   "source": [
    "#зададим модель\n",
    "model_vgg = models.vgg16(pretrained=True)"
   ]
  },
  {
   "cell_type": "code",
   "execution_count": 6,
   "metadata": {},
   "outputs": [
    {
     "data": {
      "text/plain": [
       "VGG (\n",
       "  (features): Sequential (\n",
       "    (0): Conv2d(3, 64, kernel_size=(3, 3), stride=(1, 1), padding=(1, 1))\n",
       "    (1): ReLU (inplace)\n",
       "    (2): Conv2d(64, 64, kernel_size=(3, 3), stride=(1, 1), padding=(1, 1))\n",
       "    (3): ReLU (inplace)\n",
       "    (4): MaxPool2d (size=(2, 2), stride=(2, 2), dilation=(1, 1))\n",
       "    (5): Conv2d(64, 128, kernel_size=(3, 3), stride=(1, 1), padding=(1, 1))\n",
       "    (6): ReLU (inplace)\n",
       "    (7): Conv2d(128, 128, kernel_size=(3, 3), stride=(1, 1), padding=(1, 1))\n",
       "    (8): ReLU (inplace)\n",
       "    (9): MaxPool2d (size=(2, 2), stride=(2, 2), dilation=(1, 1))\n",
       "    (10): Conv2d(128, 256, kernel_size=(3, 3), stride=(1, 1), padding=(1, 1))\n",
       "    (11): ReLU (inplace)\n",
       "    (12): Conv2d(256, 256, kernel_size=(3, 3), stride=(1, 1), padding=(1, 1))\n",
       "    (13): ReLU (inplace)\n",
       "    (14): Conv2d(256, 256, kernel_size=(3, 3), stride=(1, 1), padding=(1, 1))\n",
       "    (15): ReLU (inplace)\n",
       "    (16): MaxPool2d (size=(2, 2), stride=(2, 2), dilation=(1, 1))\n",
       "    (17): Conv2d(256, 512, kernel_size=(3, 3), stride=(1, 1), padding=(1, 1))\n",
       "    (18): ReLU (inplace)\n",
       "    (19): Conv2d(512, 512, kernel_size=(3, 3), stride=(1, 1), padding=(1, 1))\n",
       "    (20): ReLU (inplace)\n",
       "    (21): Conv2d(512, 512, kernel_size=(3, 3), stride=(1, 1), padding=(1, 1))\n",
       "    (22): ReLU (inplace)\n",
       "    (23): MaxPool2d (size=(2, 2), stride=(2, 2), dilation=(1, 1))\n",
       "    (24): Conv2d(512, 512, kernel_size=(3, 3), stride=(1, 1), padding=(1, 1))\n",
       "    (25): ReLU (inplace)\n",
       "    (26): Conv2d(512, 512, kernel_size=(3, 3), stride=(1, 1), padding=(1, 1))\n",
       "    (27): ReLU (inplace)\n",
       "    (28): Conv2d(512, 512, kernel_size=(3, 3), stride=(1, 1), padding=(1, 1))\n",
       "    (29): ReLU (inplace)\n",
       "    (30): MaxPool2d (size=(2, 2), stride=(2, 2), dilation=(1, 1))\n",
       "  )\n",
       "  (classifier): Sequential (\n",
       "    (0): Linear (25088 -> 4096)\n",
       "    (1): ReLU (inplace)\n",
       "    (2): Dropout (p = 0.5)\n",
       "    (3): Linear (4096 -> 4096)\n",
       "    (4): ReLU (inplace)\n",
       "    (5): Dropout (p = 0.5)\n",
       "    (6): Linear (4096 -> 1000)\n",
       "  )\n",
       ")"
      ]
     },
     "execution_count": 6,
     "metadata": {},
     "output_type": "execute_result"
    }
   ],
   "source": [
    "model_vgg"
   ]
  },
  {
   "cell_type": "code",
   "execution_count": 7,
   "metadata": {},
   "outputs": [],
   "source": [
    "class ConvNet_2(torch.nn.Module):\n",
    "    def __init__(self):\n",
    "        super(ConvNet_2, self).__init__()\n",
    "        \n",
    "        #это нужно потому, что модель принимает на вход (N, 3, 224, 224)\n",
    "        #как я понял, эта функция грамотно расширяет картинку меньшей размерности до нужной по ближайшим точкам\n",
    "        self.convert = torch.nn.UpsamplingNearest2d(size = (224,224))\n",
    "        self.feature_extractor = model_vgg.features\n",
    "        for param in model_vgg.parameters():\n",
    "            param.requires_grad = False\n",
    "                \n",
    "        self.linear_layers = torch.nn.Sequential(\n",
    "          #если посмотреть внимательно model_vgg, то выход со свёрточных слоёв будет именно таким\n",
    "          torch.nn.Linear(25088, 330),\n",
    "          torch.nn.Sigmoid(),\n",
    "          torch.nn.Linear(330, 136)\n",
    "        )\n",
    "    \n",
    "    def forward(self, x):\n",
    "        x = self.convert(x)\n",
    "        x = self.feature_extractor(x)\n",
    "        x = x.view(x.size(0), -1)\n",
    "        x = self.linear_layers(x)\n",
    "        return x\n",
    "    \n",
    "    def predict_proba(self,x):\n",
    "        return torch.exp(self.forward(x))\n",
    "    \n",
    "    def predict(self,x):\n",
    "        return self.predict_proba(x).data.numpy().argmax(axis=1)\n"
   ]
  },
  {
   "cell_type": "code",
   "execution_count": 8,
   "metadata": {
    "collapsed": true
   },
   "outputs": [],
   "source": [
    "#считаем данные\n",
    "#для этого зададим класс, отнаследованный от dataset. \n",
    "# у этого класса будет методы: инициализация и вернуть картинку\n",
    "class faces(Dataset):\n",
    "    def __init__(self, csv_file, root_dir, transform= None):\n",
    "        self.landmarks_frame = pd.read_csv(csv_file)\n",
    "        self.root_dir = root_dir\n",
    "        self.transform = transform\n",
    "    \n",
    "    def __len__(self):\n",
    "        return len(self.landmarks_frame)\n",
    "\n",
    "    def __getitem__(self, idx):\n",
    "        img_name = os.path.join(self.root_dir, self.landmarks_frame.ix[idx, 0])\n",
    "        image = io.imread(img_name)\n",
    "        landmarks = self.landmarks_frame.ix[idx, 1:].as_matrix().astype('float')\n",
    "        landmarks = landmarks.reshape(-1, 2)\n",
    "        sample = {'image': image, 'landmarks': landmarks}\n",
    "\n",
    "        if self.transform:\n",
    "            sample = self.transform(sample)\n",
    "\n",
    "        return sample\n",
    "\n",
    "class ToTensor(object):\n",
    "    \"\"\"Convert ndarrays in sample to Tensors.\"\"\"\n",
    "\n",
    "    def __call__(self, sample):\n",
    "        image, landmarks = sample['image'], sample['landmarks']\n",
    " \n",
    "        # swap color axis because\n",
    "        # numpy image: H x W x C\n",
    "        # torch image: C X H X W\n",
    "        #image = image.transpose((0, 1))\n",
    "        return {'image': torch.from_numpy(image),\n",
    "                'landmarks': torch.from_numpy(landmarks)}"
   ]
  },
  {
   "cell_type": "code",
   "execution_count": 9,
   "metadata": {
    "collapsed": true
   },
   "outputs": [],
   "source": [
    "train = faces(csv_file=train_landmarks_path,\n",
    "                             root_dir= train_path, \n",
    "                             transform=transforms.Compose([ToTensor()])\n",
    "             )"
   ]
  },
  {
   "cell_type": "code",
   "execution_count": 10,
   "metadata": {
    "collapsed": true
   },
   "outputs": [],
   "source": [
    "dataloader = DataLoader(train, batch_size=40,\n",
    "                        shuffle=True)"
   ]
  },
  {
   "cell_type": "code",
   "execution_count": 11,
   "metadata": {
    "collapsed": true
   },
   "outputs": [],
   "source": [
    "model = ConvNet_2()"
   ]
  },
  {
   "cell_type": "code",
   "execution_count": 13,
   "metadata": {
    "scrolled": true
   },
   "outputs": [],
   "source": [
    "loss_fn = torch.nn.MSELoss(size_average=True)\n",
    "model = ConvNet_2()\n",
    "error = []\n",
    "error_train = []\n",
    "optimizer =  torch.optim.SGD(model.linear_layers.parameters(), lr=1e-3)\n",
    "for t in range(10):\n",
    "    for T in tqdm(dataloader):\n",
    "        X = T['image']\n",
    "        X = torch.stack((X,)*3).float()\n",
    "        X = X.view(X.size(1), X.size(0), 96, 96)\n",
    "        X = X.resize_(X.size(0), X.size(1), 56, 56)\n",
    "        Y = T['landmarks'].view(T['landmarks'].size(0), -1).type(torch.FloatTensor)\n",
    "        x = Variable(X, requires_grad=False)\n",
    "        y = Variable(Y, requires_grad=False)\n",
    "        \n",
    "        y_pred = model(x)\n",
    "\n",
    "        loss =  loss_fn(y_pred, y)\n",
    "        error.append(loss.data[0])\n",
    "        optimizer.zero_grad()\n",
    "        \n",
    "        loss.backward()\n",
    "        \n",
    "        optimizer.step()\n",
    "    print ('epoch %d, meanerror %f' % (t,  np.array(error).mean()))\n",
    "    error_train.append(np.array(error).mean())"
   ]
  },
  {
   "cell_type": "code",
   "execution_count": null,
   "metadata": {
    "collapsed": true
   },
   "outputs": [],
   "source": [
    "#Но это долго и неоптимально, лучше сделать все преобразования, которые мы можем, за циклом."
   ]
  },
  {
   "cell_type": "code",
   "execution_count": 14,
   "metadata": {
    "scrolled": false
   },
   "outputs": [],
   "source": [
    "#тут нужно было достать картинки, незнамо как это сделать у dataloader'a\n",
    "#я воспользовался лайфхаком питона\n",
    "p=0\n",
    "for T in dataloader:\n",
    "    p = T['image']\n",
    "    break"
   ]
  },
  {
   "cell_type": "code",
   "execution_count": 15,
   "metadata": {},
   "outputs": [],
   "source": [
    "X = p\n",
    "X = torch.stack((X,)*3).float()\n",
    "X = X.view(X.size(1), X.size(0), 96, 96)\n",
    "X = X.resize_(X.size(0), X.size(1), 56, 56)\n",
    "m = torch.nn.UpsamplingNearest2d(size = (224,224))\n",
    "x = Variable(X, requires_grad=False)\n",
    "x = m(x)"
   ]
  },
  {
   "cell_type": "code",
   "execution_count": 16,
   "metadata": {},
   "outputs": [],
   "source": [
    "#всё, что я делаю выше, нужно для того, что модель принимает на вход батч (N, 3, 224, 224)\n",
    "#Как узнать две последние цифры, кроме как спросить на форуме или у преподавателя, пока не ясно.\n",
    "x = model_vgg.features(x)\n",
    "x = x.view(x.size(0), -1)"
   ]
  },
  {
   "cell_type": "code",
   "execution_count": 26,
   "metadata": {
    "scrolled": true
   },
   "outputs": [
    {
     "name": "stderr",
     "output_type": "stream",
     "text": [
      "\n",
      "  0%|          | 0/15 [00:00<?, ?it/s]\u001b[A\n",
      "Exception in thread Thread-5:\n",
      "Traceback (most recent call last):\n",
      "  File \"/Users/romandegtyarev/anaconda/lib/python2.7/threading.py\", line 801, in __bootstrap_inner\n",
      "    self.run()\n",
      "  File \"/Users/romandegtyarev/anaconda/lib/python2.7/site-packages/tqdm/_tqdm.py\", line 144, in run\n",
      "    for instance in self.tqdm_cls._instances:\n",
      "  File \"/Users/romandegtyarev/anaconda/lib/python2.7/_weakrefset.py\", line 60, in __iter__\n",
      "    for itemref in self.data:\n",
      "RuntimeError: Set changed size during iteration\n",
      "\n",
      "\n",
      "  7%|▋         | 1/15 [00:28<06:38, 28.46s/it]\u001b[A"
     ]
    },
    {
     "name": "stdout",
     "output_type": "stream",
     "text": [
      "epoch 0, meanerror 2230.085175\n"
     ]
    },
    {
     "name": "stderr",
     "output_type": "stream",
     "text": [
      "\n",
      " 13%|█▎        | 2/15 [00:56<06:09, 28.45s/it]\u001b[A"
     ]
    },
    {
     "name": "stdout",
     "output_type": "stream",
     "text": [
      "epoch 1, meanerror 1602.314096\n"
     ]
    },
    {
     "name": "stderr",
     "output_type": "stream",
     "text": [
      "\n",
      " 20%|██        | 3/15 [01:27<05:49, 29.11s/it]\u001b[A"
     ]
    },
    {
     "name": "stdout",
     "output_type": "stream",
     "text": [
      "epoch 2, meanerror 1211.186294\n"
     ]
    },
    {
     "name": "stderr",
     "output_type": "stream",
     "text": [
      "\n",
      " 27%|██▋       | 4/15 [01:54<05:14, 28.62s/it]\u001b[A"
     ]
    },
    {
     "name": "stdout",
     "output_type": "stream",
     "text": [
      "epoch 3, meanerror 956.981465\n"
     ]
    },
    {
     "name": "stderr",
     "output_type": "stream",
     "text": [
      "\n",
      " 33%|███▎      | 5/15 [02:18<04:37, 27.79s/it]\u001b[A"
     ]
    },
    {
     "name": "stdout",
     "output_type": "stream",
     "text": [
      "epoch 4, meanerror 784.283780\n"
     ]
    },
    {
     "name": "stderr",
     "output_type": "stream",
     "text": [
      "\n",
      " 40%|████      | 6/15 [02:43<04:04, 27.17s/it]\u001b[A"
     ]
    },
    {
     "name": "stdout",
     "output_type": "stream",
     "text": [
      "epoch 5, meanerror 661.930249\n"
     ]
    },
    {
     "name": "stderr",
     "output_type": "stream",
     "text": [
      "\n",
      " 47%|████▋     | 7/15 [03:09<03:36, 27.02s/it]\u001b[A"
     ]
    },
    {
     "name": "stdout",
     "output_type": "stream",
     "text": [
      "epoch 6, meanerror 571.875772\n"
     ]
    },
    {
     "name": "stderr",
     "output_type": "stream",
     "text": [
      "\n",
      " 53%|█████▎    | 8/15 [03:39<03:12, 27.44s/it]\u001b[A"
     ]
    },
    {
     "name": "stdout",
     "output_type": "stream",
     "text": [
      "epoch 7, meanerror 503.332241\n"
     ]
    },
    {
     "name": "stderr",
     "output_type": "stream",
     "text": [
      "\n",
      " 60%|██████    | 9/15 [04:12<02:48, 28.07s/it]\u001b[A"
     ]
    },
    {
     "name": "stdout",
     "output_type": "stream",
     "text": [
      "epoch 8, meanerror 449.637353\n"
     ]
    },
    {
     "name": "stderr",
     "output_type": "stream",
     "text": [
      "\n",
      " 67%|██████▋   | 10/15 [04:44<02:22, 28.42s/it]\u001b[A"
     ]
    },
    {
     "name": "stdout",
     "output_type": "stream",
     "text": [
      "epoch 9, meanerror 406.534949\n"
     ]
    },
    {
     "name": "stderr",
     "output_type": "stream",
     "text": [
      "\n",
      " 73%|███████▎  | 11/15 [05:15<01:54, 28.71s/it]\u001b[A"
     ]
    },
    {
     "name": "stdout",
     "output_type": "stream",
     "text": [
      "epoch 10, meanerror 371.212715\n"
     ]
    },
    {
     "name": "stderr",
     "output_type": "stream",
     "text": [
      "\n",
      " 80%|████████  | 12/15 [05:42<01:25, 28.51s/it]\u001b[A"
     ]
    },
    {
     "name": "stdout",
     "output_type": "stream",
     "text": [
      "epoch 11, meanerror 341.751633\n"
     ]
    },
    {
     "name": "stderr",
     "output_type": "stream",
     "text": [
      "\n",
      " 87%|████████▋ | 13/15 [06:08<00:56, 28.32s/it]\u001b[A"
     ]
    },
    {
     "name": "stdout",
     "output_type": "stream",
     "text": [
      "epoch 12, meanerror 316.815591\n"
     ]
    },
    {
     "name": "stderr",
     "output_type": "stream",
     "text": [
      "\n",
      " 93%|█████████▎| 14/15 [06:34<00:28, 28.17s/it]\u001b[A"
     ]
    },
    {
     "name": "stdout",
     "output_type": "stream",
     "text": [
      "epoch 13, meanerror 295.436328\n"
     ]
    },
    {
     "name": "stderr",
     "output_type": "stream",
     "text": [
      "\n",
      "100%|██████████| 15/15 [07:09<00:00, 28.61s/it]\u001b[A\n",
      "\u001b[A"
     ]
    },
    {
     "name": "stdout",
     "output_type": "stream",
     "text": [
      "epoch 14, meanerror 276.907949\n"
     ]
    }
   ],
   "source": [
    "lin_model = torch.nn.Sequential(\n",
    "          torch.nn.Linear(25088, 330),\n",
    "          torch.nn.Sigmoid(),\n",
    "          torch.nn.Linear(330, 136)\n",
    "        )\n",
    "loss_fn = torch.nn.MSELoss(size_average=True)\n",
    "error = []\n",
    "error_train = []\n",
    "optimizer =  torch.optim.SGD(lin_model.parameters(), lr=1e-3)\n",
    "for t in tqdm(range(15)):\n",
    "    for i,T in enumerate(dataloader):\n",
    "        Y = T['landmarks'].view(T['landmarks'].size(0), -1).float()\n",
    "        y = Variable(Y, requires_grad=False)\n",
    "        y_pred = lin_model.forward(x)\n",
    "\n",
    "        loss =  loss_fn(y_pred, y)\n",
    "        error.append(loss.data[0])\n",
    "        optimizer.zero_grad()\n",
    "        \n",
    "        loss.backward()\n",
    "        \n",
    "        optimizer.step()\n",
    "        if i==154:\n",
    "            break\n",
    "    print ('epoch %d, meanerror %f' % (t,  np.array(error).mean()))\n",
    "    error_train.append(np.array(error).mean())"
   ]
  },
  {
   "cell_type": "code",
   "execution_count": 36,
   "metadata": {},
   "outputs": [
    {
     "data": {
      "text/plain": [
       "[<matplotlib.lines.Line2D at 0x13c3daa10>]"
      ]
     },
     "execution_count": 36,
     "metadata": {},
     "output_type": "execute_result"
    },
    {
     "data": {
      "image/png": "[encoded data removed]",
      "text/plain": [
       "<matplotlib.figure.Figure at 0x138b7e910>"
      ]
     },
     "metadata": {},
     "output_type": "display_data"
    }
   ],
   "source": [
    "plt.figure()\n",
    "plt.title(u\"Функция потерь\")\n",
    "plt.xlabel(u\"Номер итерации(N)\")\n",
    "plt.ylabel(u\"MSELoss: $\\\\frac{1}{n} \\sum |x_i-y_i|^2$\")\n",
    "plt.grid()\n",
    "plt.plot(error_train)"
   ]
  },
  {
   "cell_type": "code",
   "execution_count": 37,
   "metadata": {
    "collapsed": true
   },
   "outputs": [],
   "source": [
    "test = faces(csv_file=test_landmarks_path,\n",
    "            root_dir=test_path, transform=transforms.Compose([ToTensor()])\n",
    "            )"
   ]
  },
  {
   "cell_type": "code",
   "execution_count": 38,
   "metadata": {
    "collapsed": true
   },
   "outputs": [],
   "source": [
    "def predict(model, x_val):\n",
    "    x_val = torch.stack((x_val,)*3).float()\n",
    "    x_val = x_val.view(1, 3, 96, 96)\n",
    "    x_val = x_val.resize_(1, 3, 56, 56)\n",
    "    m = torch.nn.UpsamplingNearest2d(size = (224,224))\n",
    "    x_val = Variable(x_val, requires_grad=False)\n",
    "    x_val = m(x_val)\n",
    "    x_val = model_vgg.features(x_val)\n",
    "    x_val = x_val.view(x_val.size(0), -1)\n",
    "    output = lin_model.forward(x_val)\n",
    "    return output.data.numpy()"
   ]
  },
  {
   "cell_type": "code",
   "execution_count": 39,
   "metadata": {},
   "outputs": [],
   "source": [
    "import warnings\n",
    "warnings.filterwarnings(\"ignore\")\n",
    "\n",
    "landmarks_frame = pd.read_csv(test_landmarks_path)\n",
    "\n",
    "n = 60\n",
    "#img_name = landmarks_frame.ix[n, 0]\n",
    "landmarks = landmarks_frame.ix[n, 1:].as_matrix().astype('float')\n",
    "landmarks = landmarks.reshape(-1, 2)\n",
    "\n",
    "\n",
    "def plt_test(i):   \n",
    "    landmarks = landmarks_frame.ix[i, 1:].as_matrix().astype('float')\n",
    "    landmarks = landmarks.reshape(-1, 2)\n",
    "    plt.figure()\n",
    "    a = test[i]['image'].float()\n",
    "    #a = a.view(-1)\n",
    "    f = predict(model, a)\n",
    "    f = f[0]\n",
    "    f_1 = f[::2]\n",
    "    f_2 = f[1::2]\n",
    "    img_name = landmarks_frame.ix[i, 0]\n",
    "    plt.figure()\n",
    "    plt.imshow(io.imread(os.path.join(test_path, img_name)), cmap='gray')\n",
    "    plt.scatter(f_1, f_2, s=10, marker='.', c='b')\n",
    "    #plt.scatter(landmarks[:, 0], landmarks[:, 1], s=10, marker='.', c='r')"
   ]
  },
  {
   "cell_type": "code",
   "execution_count": 40,
   "metadata": {},
   "outputs": [
    {
     "data": {
      "text/plain": [
       "<matplotlib.figure.Figure at 0x13c04c990>"
      ]
     },
     "metadata": {},
     "output_type": "display_data"
    },
    {
     "data": {
      "image/png": "[encoded data removed]",
      "text/plain": [
       "<matplotlib.figure.Figure at 0x13c0ab450>"
      ]
     },
     "metadata": {},
     "output_type": "display_data"
    }
   ],
   "source": [
    "plt_test(5)"
   ]
  },
  {
   "cell_type": "markdown",
   "metadata": {},
   "source": [
    "### Часть 2 (опциональная)"
   ]
  },
  {
   "cell_type": "markdown",
   "metadata": {},
   "source": [
    "Попробуйте обучить одну из архитектур на датасете. Сравните результаты с пунктом 1  "
   ]
  },
  {
   "cell_type": "markdown",
   "metadata": {},
   "source": [
    "#### Feedback (опционально)"
   ]
  },
  {
   "cell_type": "markdown",
   "metadata": {},
   "source": [
    "Здесь вы можете оставить список опечаток из лекции или семинара:"
   ]
  },
  {
   "cell_type": "raw",
   "metadata": {},
   "source": []
  },
  {
   "cell_type": "markdown",
   "metadata": {},
   "source": [
    "Здесь вы можете оставить комментарии по лекции или семинару:"
   ]
  },
  {
   "cell_type": "markdown",
   "metadata": {},
   "source": [
    "- Было бы интересно на семинаре узнать некоторые подробности о том, как можно удалять не только последние слои, но и замораживать некоторые свёрточные. А также зачем и когда это могло было бы пригодится.\n",
    "- Также не очень понятно какой размер тензора подавать на вход претрейн-модели. С этим провозился достаточно долго.\n",
    "- Если есть возможность, то лучше поподробней останавливайтесь на размерах тензора входа/выхода слоёв модели, с этим висишь большинство времени, а не над самой задачей  "
   ]
  }
 ],
 "metadata": {
  "kernelspec": {
   "display_name": "Python 2",
   "language": "python",
   "name": "python2"
  },
  "language_info": {
   "codemirror_mode": {
    "name": "ipython",
    "version": 2
   },
   "file_extension": ".py",
   "mimetype": "text/x-python",
   "name": "python",
   "nbconvert_exporter": "python",
   "pygments_lexer": "ipython2",
   "version": "2.7.13"
  },
  "latex_envs": {
   "bibliofile": "biblio.bib",
   "cite_by": "apalike",
   "current_citInitial": 1,
   "eqLabelWithNumbers": true,
   "eqNumInitial": 0
  }
 },
 "nbformat": 4,
 "nbformat_minor": 1
}
