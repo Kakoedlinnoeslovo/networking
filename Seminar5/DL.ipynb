{
 "cells": [
  {
   "cell_type": "markdown",
   "metadata": {},
   "source": [
    "## Семинар 5: \"Улучшение сходимости нейросетей\""
   ]
  },
  {
   "cell_type": "markdown",
   "metadata": {},
   "source": [
    "ФИО: Дегтярёв Роман Олегович"
   ]
  },
  {
   "cell_type": "code",
   "execution_count": 308,
   "metadata": {},
   "outputs": [],
   "source": [
    "import numpy as np\n",
    "from sklearn.datasets import fetch_mldata\n",
    "from sklearn.model_selection import train_test_split\n",
    "import matplotlib.pyplot as plt\n",
    "import torch\n",
    "from torch import nn\n",
    "from torch.autograd import Variable\n",
    "from torch.utils.data import DataLoader\n",
    "from torchvision.datasets import MNIST\n",
    "from torchvision import transforms\n",
    "from tqdm import tqdm\n",
    "\n",
    "\n",
    "%matplotlib inline"
   ]
  },
  {
   "cell_type": "markdown",
   "metadata": {},
   "source": [
    "На этом семинаре мы попробуем улучшить результаты, полученные на предыдущем занятии\n",
    "Для этого нам понадобятся следующие вещи:\n",
    "* Dropout\n",
    "* Batch Normalization\n",
    "* Инициализация весов"
   ]
  },
  {
   "cell_type": "markdown",
   "metadata": {},
   "source": [
    "### Часть 1: Инициализация весов"
   ]
  },
  {
   "cell_type": "markdown",
   "metadata": {},
   "source": [
    "На лекции доказывалось, что при инициализации He и Glorot дисперсия активаций градиентов в каждом слое будут примерно равны. Давайте проверим это. "
   ]
  },
  {
   "cell_type": "code",
   "execution_count": 82,
   "metadata": {
    "collapsed": true
   },
   "outputs": [],
   "source": [
    "# Dataloader\n",
    "to_numpy = lambda x: x.numpy()\n",
    "transform = transforms.Compose([\n",
    "                       transforms.ToTensor(),\n",
    "                       transforms.Normalize((0.1307,), (0.3081,))\n",
    "                    ])\n",
    "train_dataset = MNIST('.', train=True, download=True, transform=transform)\n",
    "test_dataset = MNIST('.', train=False, transform=transform)\n",
    "\n",
    "train_loader = DataLoader(train_dataset, batch_size=32, shuffle=True)\n",
    "test_loader = DataLoader(test_dataset, batch_size=32, shuffle=True)"
   ]
  },
  {
   "cell_type": "code",
   "execution_count": 289,
   "metadata": {
    "collapsed": true
   },
   "outputs": [],
   "source": [
    "mnist = fetch_mldata('MNIST original')\n",
    "images = mnist['data']\n",
    "images = images.reshape(images.shape[0], 1, 28, 28)\n",
    "labels = mnist['target'].astype(int)\n",
    "np.random.seed(777)\n",
    "images_train, images_test, labels_train, labels_test = train_test_split(images, labels)\n",
    "images_train = torch.from_numpy(images_train).type(torch.FloatTensor)\n",
    "images_test = torch.from_numpy(images_test).type(torch.FloatTensor)\n",
    "labels_train = torch.from_numpy(labels_train)\n",
    "labels_test = torch.from_numpy(labels_test)"
   ]
  },
  {
   "cell_type": "code",
   "execution_count": 256,
   "metadata": {
    "collapsed": true
   },
   "outputs": [],
   "source": [
    "## Usage example:\n",
    "for X, y in train_loader:\n",
    "    X = X.view(X.size(0), -1)\n",
    "    X = X.numpy() ### Converts torch.Tensor to numpy array\n",
    "    y = y.numpy()\n",
    "    pass"
   ]
  },
  {
   "cell_type": "code",
   "execution_count": 5,
   "metadata": {},
   "outputs": [
    {
     "data": {
      "image/png": "[encoded data removed]",
      "text/plain": [
       "<matplotlib.figure.Figure at 0x111396ad0>"
      ]
     },
     "metadata": {},
     "output_type": "display_data"
    }
   ],
   "source": [
    "plt.figure(figsize=(6, 7))\n",
    "for i in range(25):\n",
    "    plt.subplot(5, 5, i+1)\n",
    "    plt.imshow(X[i].reshape(28, 28), cmap=plt.cm.Greys_r)\n",
    "    plt.title(y[i])\n",
    "    plt.axis('off')"
   ]
  },
  {
   "cell_type": "markdown",
   "metadata": {},
   "source": [
    "<i> 1.1 </i> Инициализируйте полносвязную сеть нормальным шумом N(0, 0.1) с архитектурой 784 -> 500 x (10 раз) -> 10. В качестве активации возьмите tanh"
   ]
  },
  {
   "cell_type": "code",
   "execution_count": 294,
   "metadata": {},
   "outputs": [],
   "source": [
    "def init_layer(layer, mean=0, std=1):\n",
    "    # Тут надо быть аккуратным — можно случайно создать копию и менять значения у копии\n",
    "    weight = layer.state_dict()['weight']\n",
    "    bias = layer.state_dict()['bias']\n",
    "    bias.zero_()\n",
    "    weight.normal_(mean=0.0, std=0.1)\n",
    "\n",
    "def forward_hook(self, input_, output):\n",
    "        std = input_[0].std().data[0]\n",
    "        print 'forward', std\n",
    "\n",
    "def backward_hook(self, grad_input, grad_output):\n",
    "        if grad_input[1] is not None:\n",
    "            std = grad_input[1].std().data[0]\n",
    "            print 'backward', std\n",
    "\n",
    "    \n",
    "# пример:\n",
    "layer = nn.Linear(28*28, 10)\n",
    "layer.register_forward_hook(forward_hook)\n",
    "layer.register_backward_hook(backward_hook)\n",
    "init_layer(layer, 0.0, 0.1) # сюда надо подставить другие параметры"
   ]
  },
  {
   "cell_type": "code",
   "execution_count": 295,
   "metadata": {},
   "outputs": [],
   "source": [
    "def fully_connected(init_func, arc):\n",
    "    layers = []\n",
    "    for i in range(len(arc)-1):\n",
    "        layer = nn.Linear(arc[i], arc[i+1])\n",
    "        layer.register_forward_hook(forward_hook)\n",
    "        layer.register_backward_hook(backward_hook)\n",
    "        init_func(layer)\n",
    "        layers.append(layer)\n",
    "        layers.append(nn.Tanh())\n",
    "    layer = nn.Linear(500, 10)\n",
    "    layer.register_forward_hook(forward_hook)\n",
    "    layer.register_backward_hook(backward_hook)\n",
    "    init_func(layer)\n",
    "    layers.append(layer)\n",
    "    layers.append(nn.Tanh())\n",
    "    return nn.Sequential(*layers)"
   ]
  },
  {
   "cell_type": "code",
   "execution_count": 296,
   "metadata": {},
   "outputs": [],
   "source": [
    "model = fully_connected(init_layer, [28*28,500]*5)"
   ]
  },
  {
   "cell_type": "markdown",
   "metadata": {},
   "source": [
    "<i>1.2 Пропустите батч изображений через нейронную сеть и вычислите дисперсию активаций. Затем вычислите градиент и получите дисперсию градиентов. Сравните эти значения между собой для разных слоев.</i>"
   ]
  },
  {
   "cell_type": "code",
   "execution_count": 297,
   "metadata": {
    "scrolled": true
   },
   "outputs": [
    {
     "name": "stdout",
     "output_type": "stream",
     "text": [
      "forward 77.3860931396\n",
      "forward 0.99815672636\n",
      "forward 0.815977811813\n",
      "forward 0.819363713264\n",
      "forward 0.777672469616\n",
      "forward 0.813273251057\n",
      "forward 0.776258289814\n",
      "forward 0.815135002136\n",
      "forward 0.776411473751\n",
      "forward 0.811492502689\n",
      "backward 0.00168040301651\n",
      "backward 0.00185743556358\n",
      "backward 0.00283487187698\n",
      "backward 0.00302508566529\n",
      "backward 0.00455341953784\n",
      "backward 0.00475850095972\n",
      "backward 0.00695034954697\n",
      "backward 0.00757425185293\n",
      "backward 0.0101488670334\n"
     ]
    }
   ],
   "source": [
    "##### YOUR CODE HERE #####\n",
    "\n",
    "\n",
    "#пример:\n",
    "n_objects = 32\n",
    "X = Variable(images_train[:n_objects], requires_grad=False).view(n_objects, -1)\n",
    "y = Variable(labels_train[:n_objects], requires_grad=False)\n",
    "activations = model(X)\n",
    "loss_fn = torch.nn.NLLLoss()\n",
    "optimizer = torch.optim.Adam(model.parameters(), lr=0.001) \n",
    "loss = loss_fn(activations, y)\n",
    "loss.backward()"
   ]
  },
  {
   "cell_type": "markdown",
   "metadata": {},
   "source": [
    "<i>1.3 Повторите эксперимент для инициализаций He и Xavier (формулы есть в лекции).</i>"
   ]
  },
  {
   "cell_type": "code",
   "execution_count": 298,
   "metadata": {
    "collapsed": true
   },
   "outputs": [],
   "source": [
    "##### YOUR CODE HERE #####\n",
    "def init_layer_X(layer):\n",
    "    weight = layer.state_dict()['weight']\n",
    "    n_out,n_in = weight.size()\n",
    "    bias = layer.state_dict()['bias']\n",
    "    bias.zero_()\n",
    "    weight.uniform_(-np.sqrt(6)/(np.sqrt(n_in  + n_out)),np.sqrt(6)/(np.sqrt(n_in  + n_out)))"
   ]
  },
  {
   "cell_type": "code",
   "execution_count": 299,
   "metadata": {},
   "outputs": [],
   "source": [
    "model = fully_connected(init_layer_X, [28*28,500]*5)"
   ]
  },
  {
   "cell_type": "code",
   "execution_count": 300,
   "metadata": {},
   "outputs": [
    {
     "name": "stdout",
     "output_type": "stream",
     "text": [
      "forward 77.3860931396\n",
      "forward 0.995325446129\n",
      "forward 0.586957335472\n",
      "forward 0.495509833097\n",
      "forward 0.380415767431\n",
      "forward 0.365665614605\n",
      "forward 0.292789876461\n",
      "forward 0.297633528709\n",
      "forward 0.249267160892\n",
      "forward 0.258315742016\n",
      "backward 0.00171614077408\n",
      "backward 0.00141501065809\n",
      "backward 0.00145198323298\n",
      "backward 0.00115435617045\n",
      "backward 0.00117302173749\n",
      "backward 0.000904838962015\n",
      "backward 0.000865840760525\n",
      "backward 0.00059834937565\n",
      "backward 0.000476483721286\n"
     ]
    }
   ],
   "source": [
    "n_objects = 32\n",
    "X = Variable(images_train[:n_objects], requires_grad=False).view(n_objects, -1)\n",
    "y = Variable(labels_train[:n_objects], requires_grad=False)\n",
    "activations = model(X)\n",
    "loss_fn = torch.nn.NLLLoss()\n",
    "optimizer = torch.optim.Adam(model.parameters(), lr=0.001) \n",
    "loss = loss_fn(activations, y)\n",
    "loss.backward()"
   ]
  },
  {
   "cell_type": "code",
   "execution_count": 301,
   "metadata": {
    "collapsed": true
   },
   "outputs": [],
   "source": [
    "def init_layer_H(layer):\n",
    "    weight = layer.state_dict()['weight']\n",
    "    n_out,n_in = weight.size()\n",
    "    bias = layer.state_dict()['bias']\n",
    "    bias.zero_()\n",
    "    weight.normal_(mean=0.,std=np.sqrt(2.)/n_out)"
   ]
  },
  {
   "cell_type": "code",
   "execution_count": 302,
   "metadata": {
    "collapsed": true
   },
   "outputs": [],
   "source": [
    "model = fully_connected(init_layer_H, [28*28,500]*5)"
   ]
  },
  {
   "cell_type": "code",
   "execution_count": 303,
   "metadata": {},
   "outputs": [
    {
     "name": "stdout",
     "output_type": "stream",
     "text": [
      "forward 77.3860931396\n",
      "forward 0.934852778912\n",
      "forward 0.0374297946692\n",
      "forward 0.0029778550379\n",
      "forward 0.000120245531434\n",
      "forward 9.45422470977e-06\n",
      "forward 3.81237697411e-07\n",
      "forward 2.9735314655e-08\n",
      "forward 1.19591447856e-09\n",
      "forward 9.40992422871e-11\n",
      "backward 0.00444325152785\n",
      "backward 0.000282794469967\n",
      "backward 1.43332617881e-05\n",
      "backward 9.070803344e-07\n",
      "backward 4.58142928039e-08\n",
      "backward 2.88482482347e-09\n",
      "backward 1.43376852058e-10\n",
      "backward 8.99974712809e-12\n",
      "backward 4.55412129449e-13\n"
     ]
    }
   ],
   "source": [
    "n_objects = 32\n",
    "X = Variable(images_train[:n_objects], requires_grad=False).view(n_objects, -1)\n",
    "y = Variable(labels_train[:n_objects], requires_grad=False)\n",
    "activations = model(X)\n",
    "loss_fn = torch.nn.NLLLoss()\n",
    "optimizer = torch.optim.Adam(model.parameters(), lr=0.001) \n",
    "loss = loss_fn(activations, y)\n",
    "loss.backward()"
   ]
  },
  {
   "cell_type": "markdown",
   "metadata": {},
   "source": [
    "<i> 1.4 Сделайте выводы по первой части </i>"
   ]
  },
  {
   "cell_type": "code",
   "execution_count": 304,
   "metadata": {
    "collapsed": true
   },
   "outputs": [],
   "source": [
    "#Вывод: \n",
    "#В отличие от обычной инициализации N(0, 0.1) инициализация Xavier дает непостоянные веса на всех слоях. \n",
    "#Однако использование He приводит к быстрой сходимости"
   ]
  },
  {
   "cell_type": "markdown",
   "metadata": {},
   "source": [
    "### Часть 2: Dropout"
   ]
  },
  {
   "cell_type": "markdown",
   "metadata": {},
   "source": [
    "Другим полезным слоем является Dropout. В нем с вероятностью 1-p зануляется выход каждого нейрона. Этот слой уже реализован в pyTorch, поэтому вновь реализовывать его не интересно. Давайте реализуем DropConnect — аналог Dropout. В нем с вероятностью 1-p зануляется каждый вес слоя."
   ]
  },
  {
   "cell_type": "markdown",
   "metadata": {},
   "source": [
    "<i> 2.1 Реализуйте линейный слой с DropConnect </i>"
   ]
  },
  {
   "cell_type": "code",
   "execution_count": 317,
   "metadata": {
    "collapsed": true
   },
   "outputs": [],
   "source": [
    "# полезная функция: .bernoulli_(p)\n",
    "# не забывайте делать requires_grad=False у маски\n",
    "# помните, что в вычислениях должны участвовать Variable, а не тензоры\n",
    "# не забывайте, что в pyTorch нету broadcasting (делайте .expand)\n",
    "\n",
    "class DropConnect(nn.Module):\n",
    "    def __init__(self, input_dim, output_dim, p=0.5):\n",
    "        super(DropConnect, self).__init__()\n",
    "        self.weight = torch.nn.Parameter(torch.Tensor(input_dim, output_dim).normal_(mean=0, std=0.01), requires_grad=True)\n",
    "        self.bias = torch.nn.Parameter(torch.Tensor(1, output_dim).zero_(), requires_grad=True)\n",
    "        self.p = p\n",
    "        self.n_in = input_dim\n",
    "        self.n_out = output_dim\n",
    "\n",
    "    def forward(self, x):\n",
    "        self.mask = Variable(torch.Tensor(self.n_in,self.n_out).bernoulli_(self.p),requires_grad=False)\n",
    "        batch_size = x.mm(self.weight*self.mask).size()[0]\n",
    "        output = x.mm(self.weight*self.mask) + self.bias.repeat(batch_size,1) ##### YOUR CODE HERE #####\n",
    "        return output"
   ]
  },
  {
   "cell_type": "markdown",
   "metadata": {},
   "source": [
    "<i> \n",
    "2.2 Сравните графики обучения нейроных сетей:\n",
    "1. 784 -> 200 -> 200 -> 10 с ReLU и Dropout между всеми слоями \n",
    "2. 784 -> 200 -> 200 -> 10 с ReLU DropConnect вместо всех линейных слоев\n",
    "</i>"
   ]
  },
  {
   "cell_type": "code",
   "execution_count": 325,
   "metadata": {
    "collapsed": true
   },
   "outputs": [],
   "source": [
    "network_one = nn.Sequential(\n",
    "                            nn.Linear(784,200),\n",
    "                            nn.ReLU(),\n",
    "                            nn.Dropout(),\n",
    "                            nn.Linear(200,10),\n",
    "                            nn.ReLU(),\n",
    "                            nn.Dropout(),\n",
    ")\n",
    "loss_fn = nn.CrossEntropyLoss()\n",
    "optimizer = torch.optim.Adam(network_one.parameters(), lr=0.001)"
   ]
  },
  {
   "cell_type": "code",
   "execution_count": 326,
   "metadata": {},
   "outputs": [
    {
     "name": "stderr",
     "output_type": "stream",
     "text": [
      "100%|██████████| 400/400 [00:01<00:00, 203.80it/s]\n",
      "100%|██████████| 400/400 [00:02<00:00, 151.53it/s]\n",
      "100%|██████████| 400/400 [00:05<00:00, 77.22it/s]\n",
      "100%|██████████| 400/400 [00:05<00:00, 79.48it/s]\n",
      "100%|██████████| 400/400 [00:06<00:00, 60.80it/s]\n",
      "100%|██████████| 400/400 [00:05<00:00, 69.50it/s]\n",
      "100%|██████████| 400/400 [00:05<00:00, 77.62it/s]\n",
      "100%|██████████| 400/400 [00:05<00:00, 72.89it/s]\n",
      "100%|██████████| 400/400 [00:05<00:00, 77.83it/s]\n",
      "100%|██████████| 400/400 [00:04<00:00, 80.04it/s]\n"
     ]
    }
   ],
   "source": [
    "batch_size = 50\n",
    "n_epochs = 10\n",
    "\n",
    "losses = [] \n",
    "for j in xrange(n_epochs):\n",
    "    for i in tqdm(xrange(0,20000, batch_size)):\n",
    "        X = Variable(images_train[i:i+batch_size], requires_grad=False).view(batch_size, -1)\n",
    "        y = Variable(labels_train[i:i+batch_size], requires_grad=False)\n",
    "        activations = network_one(X)\n",
    "         \n",
    "        loss = loss_fn(activations, y)\n",
    "        losses.append(loss.data[0])\n",
    "        \n",
    "        optimizer.zero_grad()\n",
    "        loss.backward()\n",
    "        optimizer.step()"
   ]
  },
  {
   "cell_type": "code",
   "execution_count": 327,
   "metadata": {},
   "outputs": [],
   "source": [
    "network_two = nn.Sequential(\n",
    "                            DropConnect(784,200),\n",
    "                            nn.ReLU(),\n",
    "                            DropConnect(200,10),\n",
    "                            nn.ReLU(),\n",
    ")\n",
    "loss_fn = nn.CrossEntropyLoss()\n",
    "optimizer = torch.optim.Adam(network_two.parameters(), lr=0.001)"
   ]
  },
  {
   "cell_type": "code",
   "execution_count": 328,
   "metadata": {},
   "outputs": [
    {
     "name": "stderr",
     "output_type": "stream",
     "text": [
      "100%|██████████| 400/400 [00:05<00:00, 78.08it/s]\n",
      "100%|██████████| 400/400 [00:05<00:00, 74.73it/s]\n",
      "100%|██████████| 400/400 [00:05<00:00, 66.88it/s]\n",
      "100%|██████████| 400/400 [00:05<00:00, 68.08it/s]\n",
      "100%|██████████| 400/400 [00:05<00:00, 67.44it/s]\n",
      "100%|██████████| 400/400 [00:05<00:00, 68.04it/s]\n",
      "100%|██████████| 400/400 [00:06<00:00, 66.31it/s]\n",
      "100%|██████████| 400/400 [00:06<00:00, 66.05it/s]\n",
      "100%|██████████| 400/400 [00:06<00:00, 64.30it/s]\n",
      "100%|██████████| 400/400 [00:06<00:00, 64.00it/s]\n"
     ]
    }
   ],
   "source": [
    "batch_size = 50\n",
    "n_epochs = 10\n",
    "\n",
    "losses_2 = [] \n",
    "for j in xrange(n_epochs):\n",
    "    for i in tqdm(xrange(0,20000,batch_size)):\n",
    "        X = Variable(images_train[i:i+batch_size], requires_grad=False).view(batch_size, -1)\n",
    "        y = Variable(labels_train[i:i+batch_size], requires_grad=False)\n",
    "        activations = network_two(X)\n",
    "        loss = loss_fn(activations, y)\n",
    "        losses_2.append(loss.data[0])\n",
    "        \n",
    "        optimizer.zero_grad()\n",
    "        loss.backward()\n",
    "        optimizer.step()"
   ]
  },
  {
   "cell_type": "code",
   "execution_count": 333,
   "metadata": {},
   "outputs": [
    {
     "data": {
      "text/plain": [
       "<matplotlib.legend.Legend at 0x111dbfb50>"
      ]
     },
     "execution_count": 333,
     "metadata": {},
     "output_type": "execute_result"
    },
    {
     "data": {
      "image/png": "[encoded data removed]",
      "text/plain": [
       "<matplotlib.figure.Figure at 0x114fd9450>"
      ]
     },
     "metadata": {},
     "output_type": "display_data"
    }
   ],
   "source": [
    "plt.plot(losses[10:500],label='loss with Dropout')\n",
    "plt.plot(losses_2[10:500],label='loss with DropConnect')\n",
    "plt.legend()"
   ]
  },
  {
   "cell_type": "markdown",
   "metadata": {},
   "source": [
    "<i> 2.3 Сделайте выводы по третьей части </i>"
   ]
  },
  {
   "cell_type": "raw",
   "metadata": {},
   "source": [
    "Обучение происходит намного быстрее и всё плавно"
   ]
  },
  {
   "cell_type": "markdown",
   "metadata": {},
   "source": [
    "В test-time стохастичность Dropout убирают и заменяют все веса на их ожидаемое значение: $\\mathbb{E}w = pw + (1-p)0 = pw$."
   ]
  },
  {
   "cell_type": "markdown",
   "metadata": {},
   "source": [
    "### Часть 3: Batch Normalization"
   ]
  },
  {
   "cell_type": "markdown",
   "metadata": {},
   "source": [
    "Наконец, давайте рассмотрим Batch Normalization. Этот слой вычитает среднее и делит на стандартное отклонение. Среднее и дисперсия вычисляются по батчу независимо для каждого нейрона. У этого слоя есть две важные проблемы: его нельзя использовать при обучении с размером батча 1 и он делает элементы батча зависимыми. Давайте реализуем аналог батч нормализации: <a href=https://arxiv.org/pdf/1607.06450.pdf>Layer normalization</a>. В layer normalization среднее и дисперсия вычисляются по активациям нейронов, независимо для каждого объекта."
   ]
  },
  {
   "cell_type": "markdown",
   "metadata": {},
   "source": [
    "<i> 3.1 Реализуйте Layer Normalization </i>"
   ]
  },
  {
   "cell_type": "code",
   "execution_count": 342,
   "metadata": {
    "collapsed": true
   },
   "outputs": [],
   "source": [
    "# полезные функции: .std(dim), .mean(dim)\n",
    "# не забывайте, что в pyTorch нету broadcasting (делайте .expand)\n",
    "\n",
    "class LayerNormalization(nn.Module):\n",
    "    def __init__(self):\n",
    "        super(LayerNormalization, self).__init__()\n",
    "        self.gamma = torch.nn.Parameter(torch.Tensor([1.0]))\n",
    "        self.beta = torch.nn.Parameter(torch.Tensor([0.0]))\n",
    "        \n",
    "    def forward(self, x):\n",
    "        batch_size,n_activations = x.size()\n",
    "        output = self.gamma.repeat(batch_size,n_activations)*(x - x.mean(1).repeat(1,n_activations))/x.std(1).repeat(1,n_activations) \\\n",
    "        + self.beta.repeat(batch_size,n_activations)\n",
    "        return output"
   ]
  },
  {
   "cell_type": "markdown",
   "metadata": {},
   "source": [
    "<i> \n",
    "3.2 Сравните графики обучения нейроных сетей:\n",
    "1. 784 -> 200 -> 200 -> 10 с ReLU и Batch normalization между всеми слоями \n",
    "2. 784 -> 200 -> 200 -> 10 с ReLU и Layer normalization между всеми слоями \n",
    "</i>"
   ]
  },
  {
   "cell_type": "code",
   "execution_count": 343,
   "metadata": {
    "collapsed": true
   },
   "outputs": [],
   "source": [
    "network_three = nn.Sequential(\n",
    "                            nn.Linear(784,200),\n",
    "                            nn.BatchNorm1d(200),\n",
    "                            nn.Sigmoid(),\n",
    "                            nn.Linear(200,10),\n",
    "                            nn.BatchNorm1d(10),\n",
    "                          \n",
    ")\n",
    "loss_fn = nn.CrossEntropyLoss()\n",
    "optimizer = torch.optim.Adam(network_three.parameters(), lr=0.001)"
   ]
  },
  {
   "cell_type": "code",
   "execution_count": 338,
   "metadata": {
    "scrolled": true
   },
   "outputs": [
    {
     "name": "stderr",
     "output_type": "stream",
     "text": [
      "100%|██████████| 400/400 [00:03<00:00, 124.27it/s]\n",
      "100%|██████████| 400/400 [00:03<00:00, 133.25it/s]\n",
      "100%|██████████| 400/400 [00:02<00:00, 134.72it/s]\n",
      "100%|██████████| 400/400 [00:02<00:00, 135.63it/s]\n",
      "100%|██████████| 400/400 [00:02<00:00, 133.75it/s]\n",
      "100%|██████████| 400/400 [00:03<00:00, 128.97it/s]\n",
      "100%|██████████| 400/400 [00:03<00:00, 129.58it/s]\n",
      "100%|██████████| 400/400 [00:03<00:00, 126.76it/s]\n",
      "100%|██████████| 400/400 [00:02<00:00, 138.29it/s]\n",
      "100%|██████████| 400/400 [00:02<00:00, 136.09it/s]\n"
     ]
    }
   ],
   "source": [
    "batch_size = 50\n",
    "n_epochs = 10\n",
    "\n",
    "losses = [] \n",
    "for j in xrange(n_epochs):\n",
    "    for i in tqdm(xrange(0,20000,batch_size)):\n",
    "        X = Variable(images_train[i:i+batch_size], requires_grad=False).view(batch_size, -1)\n",
    "        y = Variable(labels_train[i:i+batch_size], requires_grad=False)\n",
    "        activations = network_three(X)\n",
    "         \n",
    "        loss = loss_fn(activations, y)\n",
    "        losses.append(loss.data[0])\n",
    "        \n",
    "        optimizer.zero_grad()\n",
    "        loss.backward()\n",
    "        optimizer.step()"
   ]
  },
  {
   "cell_type": "code",
   "execution_count": 344,
   "metadata": {
    "collapsed": true
   },
   "outputs": [],
   "source": [
    "network_four = nn.Sequential(\n",
    "                            nn.Linear(784,200),\n",
    "                            LayerNormalization(),\n",
    "                            nn.Sigmoid(),\n",
    "                            nn.Linear(200,10),\n",
    "                            LayerNormalization(),\n",
    "                           \n",
    ")\n",
    "loss_fn = nn.CrossEntropyLoss()\n",
    "optimizer = torch.optim.Adam(network_four.parameters(), lr=0.001)"
   ]
  },
  {
   "cell_type": "code",
   "execution_count": 345,
   "metadata": {
    "scrolled": true
   },
   "outputs": [
    {
     "name": "stderr",
     "output_type": "stream",
     "text": [
      "  0%|          | 0/400 [00:00<?, ?it/s]/Users/romandegtyarev/anaconda/lib/python2.7/site-packages/torch/autograd/_functions/basic_ops.py:34: UserWarning: self and other not broadcastable, but have the same number of elements.  Falling back to deprecated pointwise behavior.\n",
      "  return a.sub(b)\n",
      "/Users/romandegtyarev/anaconda/lib/python2.7/site-packages/torch/autograd/_functions/basic_ops.py:63: UserWarning: self and other not broadcastable, but have the same number of elements.  Falling back to deprecated pointwise behavior.\n",
      "  return a.div(b)\n",
      "/Users/romandegtyarev/anaconda/lib/python2.7/site-packages/torch/autograd/_functions/basic_ops.py:48: UserWarning: self and other not broadcastable, but have the same number of elements.  Falling back to deprecated pointwise behavior.\n",
      "  return a.mul(b)\n",
      "100%|██████████| 400/400 [00:11<00:00, 34.07it/s]\n",
      "100%|██████████| 400/400 [00:11<00:00, 34.32it/s]\n",
      "100%|██████████| 400/400 [00:12<00:00, 33.01it/s]\n",
      "100%|██████████| 400/400 [00:11<00:00, 34.10it/s]\n",
      "100%|██████████| 400/400 [00:12<00:00, 30.94it/s]\n",
      "100%|██████████| 400/400 [00:11<00:00, 33.66it/s]\n",
      "100%|██████████| 400/400 [00:11<00:00, 35.70it/s]\n",
      "100%|██████████| 400/400 [00:11<00:00, 34.62it/s]\n",
      "100%|██████████| 400/400 [00:12<00:00, 33.27it/s]\n",
      "100%|██████████| 400/400 [00:12<00:00, 32.41it/s]\n"
     ]
    }
   ],
   "source": [
    "batch_size = 50\n",
    "n_epochs = 10\n",
    "\n",
    "losses_2 = [] \n",
    "for j in xrange(n_epochs):\n",
    "    for i in tqdm(xrange(0,20000,batch_size)):\n",
    "        X = Variable(images_train[i:i+batch_size], requires_grad=False).view(batch_size, -1)\n",
    "        y = Variable(labels_train[i:i+batch_size], requires_grad=False)\n",
    "        activations = network_four(X)\n",
    "         \n",
    "        loss = loss_fn(activations, y)\n",
    "        losses_2.append(loss.data[0])\n",
    "        \n",
    "        optimizer.zero_grad()\n",
    "        loss.backward()\n",
    "        optimizer.step()"
   ]
  },
  {
   "cell_type": "code",
   "execution_count": 346,
   "metadata": {
    "scrolled": true
   },
   "outputs": [
    {
     "data": {
      "text/plain": [
       "<matplotlib.legend.Legend at 0x1120d1b90>"
      ]
     },
     "execution_count": 346,
     "metadata": {},
     "output_type": "execute_result"
    },
    {
     "data": {
      "image/png": "[encoded data removed]",
      "text/plain": [
       "<matplotlib.figure.Figure at 0x115557290>"
      ]
     },
     "metadata": {},
     "output_type": "display_data"
    }
   ],
   "source": [
    "plt.plot(losses,label='BatchNormalization')\n",
    "plt.plot(losses_2,label='LayerNormalization')\n",
    "plt.title('loss on train')\n",
    "plt.legend()"
   ]
  },
  {
   "cell_type": "markdown",
   "metadata": {},
   "source": [
    "<i> 3.3 Сделайте выводы по третьей части </i>"
   ]
  },
  {
   "cell_type": "code",
   "execution_count": 347,
   "metadata": {
    "collapsed": true
   },
   "outputs": [],
   "source": [
    "#Cходимость примерно одинаковая, в конце практически незаметно разницы"
   ]
  },
  {
   "cell_type": "markdown",
   "metadata": {},
   "source": [
    "#### Feedback (опционально)"
   ]
  },
  {
   "cell_type": "markdown",
   "metadata": {},
   "source": [
    "Здесь вы можете оставить список опечаток из лекции или семинара:"
   ]
  },
  {
   "cell_type": "raw",
   "metadata": {},
   "source": []
  },
  {
   "cell_type": "markdown",
   "metadata": {},
   "source": [
    "Здесь вы можете оставить комментарии по лекции или семинару:"
   ]
  },
  {
   "cell_type": "raw",
   "metadata": {},
   "source": []
  }
 ],
 "metadata": {
  "kernelspec": {
   "display_name": "Python 2",
   "language": "python",
   "name": "python2"
  },
  "language_info": {
   "codemirror_mode": {
    "name": "ipython",
    "version": 2
   },
   "file_extension": ".py",
   "mimetype": "text/x-python",
   "name": "python",
   "nbconvert_exporter": "python",
   "pygments_lexer": "ipython2",
   "version": "2.7.13"
  },
  "latex_envs": {
   "bibliofile": "biblio.bib",
   "cite_by": "apalike",
   "current_citInitial": 1,
   "eqLabelWithNumbers": true,
   "eqNumInitial": 0
  }
 },
 "nbformat": 4,
 "nbformat_minor": 1
}
