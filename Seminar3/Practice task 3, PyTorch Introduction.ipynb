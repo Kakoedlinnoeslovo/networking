{
 "cells": [
  {
   "cell_type": "markdown",
   "metadata": {},
   "source": [
    "## Семинар 3 \"Определение ключевых точек лица\""
   ]
  },
  {
   "cell_type": "markdown",
   "metadata": {},
   "source": [
    "ФИО: Дегтярев Роман Олегович"
   ]
  },
  {
   "cell_type": "markdown",
   "metadata": {},
   "source": [
    "# Подготовительная задача 1"
   ]
  },
  {
   "cell_type": "markdown",
   "metadata": {},
   "source": [
    "Сделать из линейной регрессии nn.sequental двухслойную сеть"
   ]
  },
  {
   "cell_type": "code",
   "execution_count": 1,
   "metadata": {
    "collapsed": true
   },
   "outputs": [],
   "source": [
    "import torch\n",
    "from torchvision.datasets import MNIST\n",
    "from torchvision import transforms\n",
    "from torch.utils.data import DataLoader\n",
    "from torch.autograd import Variable\n",
    "import torch.nn as nn\n",
    "import torch.nn.functional as F\n",
    "import torch.optim as optim\n",
    "import matplotlib.pyplot as plt\n",
    "import numpy as np\n",
    "from sklearn.model_selection import train_test_split"
   ]
  },
  {
   "cell_type": "code",
   "execution_count": 2,
   "metadata": {
    "collapsed": true
   },
   "outputs": [],
   "source": [
    "#Parameters:\n",
    "_LR = 0.001\n",
    "_BATCH_SIZE = 32\n",
    "_EPOCH = 20\n",
    "_EPS=1.00000e-02\n",
    "_RAND_STATE = 42"
   ]
  },
  {
   "cell_type": "code",
   "execution_count": null,
   "metadata": {
    "collapsed": true
   },
   "outputs": [],
   "source": [
    "#Load MNIST\n",
    "to_numpy = lambda x: x.numpy()\n",
    "transform = transforms.Compose([\n",
    "                       transforms.ToTensor(),\n",
    "                       transforms.Normalize((0.1307,), (0.3081,))\n",
    "                    ])\n",
    "train_dataset = MNIST('.', train=True, download=True, transform=transforms.ToTensor())\n",
    "test_dataset = MNIST('.', train=False, transform=transforms.ToTensor())\n",
    "\n",
    "train_loader = DataLoader(train_dataset, batch_size=32, shuffle=True)\n",
    "test_loader = DataLoader(test_dataset, batch_size=32, shuffle=True)"
   ]
  },
  {
   "cell_type": "code",
   "execution_count": null,
   "metadata": {
    "collapsed": true
   },
   "outputs": [],
   "source": [
    "#network architecture \n",
    "class network_sigmoid(nn.Module):\n",
    "\n",
    "    def __init__(self):\n",
    "        super(network_sigmoid, self).__init__()\n",
    "        self.layer1 = nn.Sequential(\n",
    "            nn.Linear(784, 100),\n",
    "            nn.Sigmoid()\n",
    "        )\n",
    "        self.layer2 = nn.Sequential(\n",
    "            nn.Linear(100, _BATCH_SIZE),\n",
    "            nn.Sigmoid()\n",
    "        )\n",
    "        self.fc = nn.Linear(_BATCH_SIZE,10)\n",
    "\n",
    "    def forward(self, x):\n",
    "        out = self.layer1(x)\n",
    "        out = self.layer2(out)\n",
    "        out = self.fc(out)\n",
    "        return out"
   ]
  },
  {
   "cell_type": "code",
   "execution_count": null,
   "metadata": {
    "collapsed": true
   },
   "outputs": [],
   "source": [
    "fnn = network_sigmoid()\n",
    "\n",
    "loss_func = nn.CrossEntropyLoss()\n",
    "optimizer = torch.optim.Adam(fnn.parameters(), lr=_LR)"
   ]
  },
  {
   "cell_type": "markdown",
   "metadata": {},
   "source": [
    "# Подготовительная задача 2"
   ]
  },
  {
   "cell_type": "markdown",
   "metadata": {},
   "source": [
    "Используя структуру сети Sequental в pytorch реализовать и обучить классификатор цифр из MNIST\n",
    "(повторить первый и второй пункты из прошлого задания )"
   ]
  },
  {
   "cell_type": "code",
   "execution_count": null,
   "metadata": {
    "collapsed": true
   },
   "outputs": [],
   "source": [
    "loss_train = []\n",
    "for i in range(_EPOCH):\n",
    "    for j,[image,label] in enumerate(train_loader):\n",
    "        image = Variable(image)\n",
    "        label = Variable(label)\n",
    "        image = image.view(-1, 28*28)\n",
    "        #print image.size()\n",
    "        optimizer.zero_grad()\n",
    "        result = fnn.forward(image)\n",
    "        loss = loss_func(result,label)\n",
    "        loss.backward()\n",
    "        optimizer.step()\n",
    "        if (loss.data.numpy()[0]<_EPS):\n",
    "            break\n",
    "        \n",
    "        if j % 1000 == 0:\n",
    "            loss_train.append(loss.data.numpy()[0])\n",
    "            print(loss)"
   ]
  },
  {
   "cell_type": "code",
   "execution_count": null,
   "metadata": {
    "collapsed": true
   },
   "outputs": [],
   "source": [
    "#Network with Sigmoid \n",
    "plt.plot(np.array(loss_train), label='Train')\n",
    "plt.ylabel('CrossEntropyLoss')\n",
    "plt.xlabel('Number of epoch')\n",
    "plt.grid(True)\n",
    "plt.legend(bbox_to_anchor=(1.05, 1), loc=2, borderaxespad=0.)\n",
    "plt.show()"
   ]
  },
  {
   "cell_type": "code",
   "execution_count": null,
   "metadata": {
    "collapsed": true
   },
   "outputs": [],
   "source": [
    "class network_ReLU(nn.Module):\n",
    "\n",
    "    def __init__(self):\n",
    "        super(network_ReLU, self).__init__()\n",
    "        self.layer1 = nn.Sequential(\n",
    "            nn.Linear(784, 100),\n",
    "            nn.ReLU()\n",
    "        )\n",
    "        self.layer2 = nn.Sequential(\n",
    "            nn.Linear(100, _BATCH_SIZE),\n",
    "            nn.ReLU()\n",
    "        )\n",
    "        self.fc = nn.Linear(_BATCH_SIZE,10)\n",
    "\n",
    "    def forward(self, x):\n",
    "        out = self.layer1(x)\n",
    "        out = self.layer2(out)\n",
    "        out = self.fc(out)\n",
    "        return out"
   ]
  },
  {
   "cell_type": "code",
   "execution_count": null,
   "metadata": {
    "collapsed": true
   },
   "outputs": [],
   "source": [
    "snn = network_ReLU()\n",
    "\n",
    "loss_func = nn.CrossEntropyLoss()\n",
    "optimizer = torch.optim.Adam(snn.parameters(), lr=_LR)"
   ]
  },
  {
   "cell_type": "code",
   "execution_count": null,
   "metadata": {
    "collapsed": true
   },
   "outputs": [],
   "source": [
    "loss_train = []\n",
    "for i in range(_EPOCH):\n",
    "    for j,[image,label] in enumerate(train_loader):\n",
    "        image = Variable(image)\n",
    "        label = Variable(label)\n",
    "        image = image.view(-1, 28*28)\n",
    "        #print image.size()\n",
    "        optimizer.zero_grad()\n",
    "        result = snn.forward(image)\n",
    "        loss = loss_func(result,label)\n",
    "        loss.backward()\n",
    "        optimizer.step()\n",
    "        if (loss.data.numpy()[0]<_EPS):\n",
    "            break\n",
    "        \n",
    "        if j % 1000 == 0:\n",
    "            loss_train.append(loss.data.numpy()[0])\n",
    "            #print(loss)"
   ]
  },
  {
   "cell_type": "code",
   "execution_count": null,
   "metadata": {
    "collapsed": true,
    "scrolled": true
   },
   "outputs": [],
   "source": [
    "#Network with ReLU\n",
    "plt.plot(np.array(loss_train), label='Train')\n",
    "plt.ylabel('CrossEntropyLoss')\n",
    "plt.xlabel('Number of epoch')\n",
    "plt.grid(True)\n",
    "plt.legend(bbox_to_anchor=(1.05, 1), loc=2, borderaxespad=0.)\n",
    "plt.show()"
   ]
  },
  {
   "cell_type": "code",
   "execution_count": null,
   "metadata": {
    "collapsed": true
   },
   "outputs": [],
   "source": [
    "#Для ReLU сошлось побыстрее"
   ]
  },
  {
   "cell_type": "markdown",
   "metadata": {},
   "source": [
    "## Задание"
   ]
  },
  {
   "cell_type": "markdown",
   "metadata": {},
   "source": [
    "Используя датасет из архива решите задачу регрессии для поиска 68-ми ключевых точек лица. \n",
    "\n",
    "Для обучения и валидации используйте изображения и разметку из папок train и test соответственно.\n",
    "\n",
    "Попробуйте сети глубины 1 и 2 и разные активации (ELU, RELU и sigmoid)."
   ]
  },
  {
   "cell_type": "code",
   "execution_count": 3,
   "metadata": {
    "scrolled": false
   },
   "outputs": [
    {
     "name": "stdout",
     "output_type": "stream",
     "text": [
      "Image name: 109.jpeg\n",
      "Landmarks shape: (68, 2)\n",
      "First 4 Landmarks: [[  7.  41.]\n",
      " [  8.  51.]\n",
      " [ 10.  60.]\n",
      " [ 13.  70.]]\n",
      "(96, 96)\n"
     ]
    },
    {
     "data": {
      "image/png": "[encoded data removed]",
      "text/plain": [
       "<matplotlib.figure.Figure at 0x11926ef90>"
      ]
     },
     "metadata": {},
     "output_type": "display_data"
    }
   ],
   "source": [
    "%matplotlib inline\n",
    "from __future__ import print_function, division\n",
    "import os\n",
    "import torch\n",
    "import pandas as pd\n",
    "from skimage import io, transform\n",
    "import numpy as np\n",
    "import matplotlib.pyplot as plt\n",
    "from torch.utils.data import Dataset, DataLoader\n",
    "from torchvision import transforms, utils\n",
    "\n",
    "# Ignore warnings\n",
    "import warnings\n",
    "warnings.filterwarnings(\"ignore\")\n",
    "\n",
    "landmarks_frame = pd.read_csv('dataset/train/face_landmarks.csv')\n",
    "\n",
    "n = 100\n",
    "img_name = landmarks_frame.ix[n, 0]\n",
    "landmarks = landmarks_frame.ix[n, 1:].as_matrix().astype('float')\n",
    "landmarks = landmarks.reshape(-1, 2)\n",
    "\n",
    "print('Image name: {}'.format(img_name))\n",
    "print('Landmarks shape: {}'.format(landmarks.shape))\n",
    "print('First 4 Landmarks: {}'.format(landmarks[:4]))\n",
    "\n",
    "def show_landmarks(image, landmarks):\n",
    "    \"\"\"Show image with landmarks\"\"\"\n",
    "    plt.imshow(image, cmap='gray')\n",
    "    print(image.shape)\n",
    "    plt.scatter(landmarks[:, 0], landmarks[:, 1], s=10, marker='.', c='b')\n",
    "    plt.pause(0.001)  \n",
    "\n",
    "plt.figure()\n",
    "show_landmarks(io.imread(os.path.join('dataset/train/', img_name)),\n",
    "               landmarks)\n",
    "plt.show()"
   ]
  },
  {
   "cell_type": "code",
   "execution_count": 4,
   "metadata": {
    "collapsed": true
   },
   "outputs": [],
   "source": [
    "# class Rescale(object):\n",
    "#     \"\"\"Rescale the image in a sample to a given size.\n",
    "\n",
    "#     Args:\n",
    "#         output_size (tuple or tuple): Desired output size. If tuple, output is\n",
    "#             matched to output_size. If int, smaller of image edges is matched\n",
    "#             to output_size keeping aspect ratio the same.\n",
    "#     \"\"\"\n",
    "\n",
    "#     def __init__(self, output_size):\n",
    "#         assert isinstance(output_size, (int, tuple))\n",
    "#         self.output_size = output_size\n",
    "\n",
    "#     def __call__(self, sample):\n",
    "#         image, landmarks = sample['image'], sample['landmarks']\n",
    "\n",
    "#         h, w = image.shape[:2]\n",
    "#         if isinstance(self.output_size, int):\n",
    "#             if h > w:\n",
    "#                 new_h, new_w = self.output_size * h / w, self.output_size\n",
    "#             else:\n",
    "#                 new_h, new_w = self.output_size, self.output_size * w / h\n",
    "#         else:\n",
    "#             new_h, new_w = self.output_size\n",
    "\n",
    "#         new_h, new_w = int(new_h), int(new_w)\n",
    "\n",
    "#         img = transform.resize(image, (new_h, new_w))\n",
    "\n",
    "#         # h and w are swapped for landmarks because for images,\n",
    "#         # x and y axes are axis 1 and 0 respectively\n",
    "#         landmarks = landmarks * [new_w / w, new_h / h]\n",
    "\n",
    "#         return {'image': img, 'landmarks': landmarks}\n",
    "\n",
    "\n",
    "class RandomCrop(object):\n",
    "    \"\"\"Crop randomly the image in a sample.\n",
    "\n",
    "    Args:\n",
    "        output_size (tuple or int): Desired output size. If int, square crop\n",
    "            is made.\n",
    "    \"\"\"\n",
    "\n",
    "    def __init__(self, output_size):\n",
    "        assert isinstance(output_size, (int, tuple))\n",
    "        if isinstance(output_size, int):\n",
    "            self.output_size = (output_size, output_size)\n",
    "        else:\n",
    "            assert len(output_size) == 2\n",
    "            self.output_size = output_size\n",
    "\n",
    "    def __call__(self, sample):\n",
    "        image, landmarks = sample['image'], sample['landmarks']\n",
    "\n",
    "        h, w = image.shape[:2]\n",
    "        new_h, new_w = self.output_size\n",
    "\n",
    "        top = np.random.randint(0, h - new_h)\n",
    "        left = np.random.randint(0, w - new_w)\n",
    "\n",
    "        image = image[top: top + new_h,\n",
    "                      left: left + new_w]\n",
    "\n",
    "        landmarks = landmarks - [left, top]\n",
    "\n",
    "        return {'image': image, 'landmarks': landmarks}\n",
    "\n",
    "\n",
    "class ToTensor(object):\n",
    "    \"\"\"Convert ndarrays in sample to Tensors.\"\"\"\n",
    "\n",
    "    def __call__(self, sample):\n",
    "        image, landmarks = sample['image'], sample['landmarks']\n",
    " \n",
    "        # swap color axis because\n",
    "        # numpy image: H x W x C\n",
    "        # torch image: C X H X W\n",
    "        #image = image.transpose((0, 1))\n",
    "        return {'image': torch.from_numpy(image),\n",
    "                'landmarks': torch.from_numpy(landmarks)}"
   ]
  },
  {
   "cell_type": "code",
   "execution_count": 5,
   "metadata": {
    "collapsed": true
   },
   "outputs": [],
   "source": [
    "class FaceLandmarksDataset(Dataset):\n",
    "    \"\"\"Face Landmarks dataset.\"\"\"\n",
    "\n",
    "    def __init__(self, csv_file, root_dir, transform=None):\n",
    "        \"\"\"\n",
    "        Args:\n",
    "            csv_file (string): Path to the csv file with annotations.\n",
    "            root_dir (string): Directory with all the images.\n",
    "            transform (callable, optional): Optional transform to be applied\n",
    "                on a sample.\n",
    "        \"\"\"\n",
    "        self.landmarks_frame = pd.read_csv(csv_file)\n",
    "        self.root_dir = root_dir\n",
    "        self.transform = transform\n",
    "\n",
    "    def __len__(self):\n",
    "        return len(self.landmarks_frame)\n",
    "\n",
    "    def __getitem__(self, idx):\n",
    "        img_name = os.path.join(self.root_dir, self.landmarks_frame.ix[idx, 0])\n",
    "        image = io.imread(img_name)\n",
    "        landmarks = self.landmarks_frame.ix[idx, 1:].as_matrix().astype('float')\n",
    "        landmarks = landmarks.reshape(-1, 2)\n",
    "        sample = {'image': image, 'landmarks': landmarks}\n",
    "\n",
    "        if self.transform:\n",
    "            sample = self.transform(sample)\n",
    "\n",
    "        return sample"
   ]
  },
  {
   "cell_type": "code",
   "execution_count": 6,
   "metadata": {
    "collapsed": true
   },
   "outputs": [],
   "source": [
    "# scale = Rescale(256)\n",
    "# crop = RandomCrop(128)\n",
    "# composed = transforms.Compose([Rescale(256),\n",
    "#                                RandomCrop(224)])"
   ]
  },
  {
   "cell_type": "code",
   "execution_count": 7,
   "metadata": {
    "collapsed": true
   },
   "outputs": [],
   "source": [
    "train_landmarks_path = 'dataset/train/face_landmarks.csv'\n",
    "train_path = 'dataset/train/'\n",
    "test_landmarks_path = 'dataset/test/face_landmarks.csv'\n",
    "test_path = 'dataset/test'"
   ]
  },
  {
   "cell_type": "code",
   "execution_count": null,
   "metadata": {
    "collapsed": true
   },
   "outputs": [],
   "source": []
  },
  {
   "cell_type": "code",
   "execution_count": 8,
   "metadata": {},
   "outputs": [
    {
     "name": "stdout",
     "output_type": "stream",
     "text": [
      "0 torch.Size([96, 96]) torch.Size([68, 2])\n",
      "1 torch.Size([96, 96]) torch.Size([68, 2])\n",
      "2 torch.Size([96, 96]) torch.Size([68, 2])\n",
      "3 torch.Size([96, 96]) torch.Size([68, 2])\n"
     ]
    }
   ],
   "source": [
    "transformed_dataset = FaceLandmarksDataset(csv_file=train_landmarks_path,\n",
    "                                           root_dir= train_path, transform=transforms.Compose([\n",
    "                                               #RandomCrop(90),\n",
    "                                               ToTensor()\n",
    "                                           ])\n",
    "                                           )\n",
    "\n",
    "for i in range(len(transformed_dataset)):\n",
    "    sample = transformed_dataset[i]\n",
    "\n",
    "    print(i, sample['image'].float().size(), sample['landmarks'].float().size())\n",
    " \n",
    "    if i == 3:\n",
    "        plt.show()\n",
    "\n",
    "        break"
   ]
  },
  {
   "cell_type": "code",
   "execution_count": 9,
   "metadata": {
    "collapsed": true
   },
   "outputs": [],
   "source": [
    "dataloader = DataLoader(transformed_dataset, batch_size=40,\n",
    "                        shuffle=True, num_workers=4)"
   ]
  },
  {
   "cell_type": "code",
   "execution_count": 12,
   "metadata": {},
   "outputs": [
    {
     "name": "stdout",
     "output_type": "stream",
     "text": [
      "epoch 0, meanerror 1207436.635470\n",
      "epoch 1, meanerror 762337.065031\n",
      "epoch 2, meanerror 607737.749083\n",
      "epoch 3, meanerror 526038.910720\n",
      "epoch 4, meanerror 473708.013132\n",
      "epoch 5, meanerror 436223.339402\n",
      "epoch 6, meanerror 407353.475125\n",
      "epoch 7, meanerror 383975.820194\n",
      "epoch 8, meanerror 364350.478783\n",
      "epoch 9, meanerror 347428.189549\n",
      "epoch 10, meanerror 332537.122291\n",
      "epoch 11, meanerror 319225.987476\n",
      "epoch 12, meanerror 307179.314161\n",
      "epoch 13, meanerror 296169.028027\n",
      "epoch 14, meanerror 286025.419375\n",
      "epoch 15, meanerror 276619.268214\n",
      "epoch 16, meanerror 267849.804375\n",
      "epoch 17, meanerror 259637.195535\n",
      "epoch 18, meanerror 251916.728329\n",
      "epoch 19, meanerror 244635.469434\n",
      "epoch 20, meanerror 237749.343617\n",
      "epoch 21, meanerror 231221.264482\n",
      "epoch 22, meanerror 225019.673750\n",
      "epoch 23, meanerror 219117.367684\n",
      "epoch 24, meanerror 213490.716807\n",
      "epoch 25, meanerror 208119.060743\n",
      "epoch 26, meanerror 202984.116134\n",
      "epoch 27, meanerror 198069.787611\n",
      "epoch 28, meanerror 193361.522078\n",
      "epoch 29, meanerror 188846.268137\n",
      "epoch 30, meanerror 184512.264279\n",
      "epoch 31, meanerror 180348.766922\n",
      "epoch 32, meanerror 176346.029367\n",
      "epoch 33, meanerror 172495.146392\n",
      "epoch 34, meanerror 168787.817467\n",
      "epoch 35, meanerror 165216.519675\n",
      "epoch 36, meanerror 161774.212992\n",
      "epoch 37, meanerror 158454.399076\n",
      "epoch 38, meanerror 155250.999183\n",
      "epoch 39, meanerror 152158.400132\n",
      "epoch 40, meanerror 149171.346403\n",
      "epoch 41, meanerror 146284.867851\n",
      "epoch 42, meanerror 143494.378268\n",
      "epoch 43, meanerror 140795.520472\n",
      "epoch 44, meanerror 138184.238457\n",
      "epoch 45, meanerror 135656.673490\n",
      "epoch 46, meanerror 133209.197511\n",
      "epoch 47, meanerror 130838.393508\n",
      "epoch 48, meanerror 128541.026731\n",
      "epoch 49, meanerror 126314.032446\n",
      "epoch 50, meanerror 124154.531092\n",
      "epoch 51, meanerror 122059.756094\n",
      "epoch 52, meanerror 120027.117646\n",
      "epoch 53, meanerror 118054.142612\n",
      "epoch 54, meanerror 116138.474814\n",
      "epoch 55, meanerror 114277.887892\n",
      "epoch 56, meanerror 112470.243586\n",
      "epoch 57, meanerror 110713.523483\n",
      "epoch 58, meanerror 109005.801462\n",
      "epoch 59, meanerror 107345.230824\n",
      "epoch 60, meanerror 105730.073083\n",
      "epoch 61, meanerror 104158.651383\n",
      "epoch 62, meanerror 102629.360630\n",
      "epoch 63, meanerror 101140.678492\n",
      "epoch 64, meanerror 99691.152344\n",
      "epoch 65, meanerror 98279.386455\n",
      "epoch 66, meanerror 96904.045578\n",
      "epoch 67, meanerror 95563.855656\n",
      "epoch 68, meanerror 94257.594533\n",
      "epoch 69, meanerror 92984.097535\n",
      "epoch 70, meanerror 91742.239655\n",
      "epoch 71, meanerror 90530.958250\n",
      "epoch 72, meanerror 89349.218057\n",
      "epoch 73, meanerror 88196.032094\n",
      "epoch 74, meanerror 87070.459144\n",
      "epoch 75, meanerror 85971.588123\n",
      "epoch 76, meanerror 84898.551359\n",
      "epoch 77, meanerror 83850.510415\n",
      "epoch 78, meanerror 82826.665008\n",
      "epoch 79, meanerror 81826.244156\n",
      "epoch 80, meanerror 80848.501211\n",
      "epoch 81, meanerror 79892.730123\n",
      "epoch 82, meanerror 78958.243909\n",
      "epoch 83, meanerror 78044.383704\n",
      "epoch 84, meanerror 77150.519163\n",
      "epoch 85, meanerror 76276.036638\n",
      "epoch 86, meanerror 75420.350847\n",
      "epoch 87, meanerror 74582.897356\n",
      "epoch 88, meanerror 73763.132946\n",
      "epoch 89, meanerror 72960.534940\n",
      "epoch 90, meanerror 72174.595713\n",
      "epoch 91, meanerror 71404.831512\n",
      "epoch 92, meanerror 70650.771674\n",
      "epoch 93, meanerror 69911.965890\n",
      "epoch 94, meanerror 69187.978070\n",
      "epoch 95, meanerror 68478.389382\n",
      "epoch 96, meanerror 67782.792852\n",
      "epoch 97, meanerror 67100.797820\n",
      "epoch 98, meanerror 66432.027010\n",
      "epoch 99, meanerror 65776.116076\n"
     ]
    }
   ],
   "source": [
    "D_in, H, D_out = 96*96, 330, 136\n",
    "\n",
    "batch_size = 200\n",
    "num_epoch = 100\n",
    "def predict(model, x_val):\n",
    "    \n",
    "    x = Variable(x_val, requires_grad=False)\n",
    "    output = model.forward(x)\n",
    "    return output.data.numpy()\n",
    "\n",
    "\n",
    "model = torch.nn.Sequential(\n",
    "          torch.nn.Linear(D_in, H),\n",
    "          torch.nn.ELU(),\n",
    "          #torch.nn.Linear(H, H),\n",
    "          #torch.nn.Sigmoid(),\n",
    "          torch.nn.Linear(H, D_out)\n",
    "        )\n",
    "\n",
    "#loss_fn = torch.nn.CrossEntropyLoss()\n",
    "#loss_fn = nn.NLLLoss()\n",
    "loss_fn = torch.nn.MSELoss(size_average=True)\n",
    "\n",
    "learning_rate = 1e-4/2.5\n",
    "flag_train_epoch = []\n",
    "flag_test = []\n",
    "flag = []\n",
    "optimizer =  torch.optim.SGD(model.parameters(), lr=learning_rate)\n",
    "k = 0\n",
    "for t in range(num_epoch):\n",
    "    for T in dataloader:\n",
    "        k+=1\n",
    "        X = T['image'].view(T['image'].size(0), -1).float()\n",
    "        Y = T['landmarks'].view(T['landmarks'].size(0), -1).float()\n",
    "        x = Variable(X, requires_grad=False)\n",
    "        y = Variable(Y, requires_grad=False)\n",
    "        \n",
    "        y_pred = model.forward(x)\n",
    "\n",
    "        loss =  loss_fn(y_pred, y)\n",
    "        flag.append(loss.data[0])\n",
    "        optimizer.zero_grad()\n",
    "        \n",
    "        loss.backward()\n",
    "        \n",
    "        optimizer.step()\n",
    "        \n",
    "    for W in dataloader:\n",
    "        Q_1 = W['image'].view(W['image'].size(0), -1).float()\n",
    "        Q_2 = W['landmarks'].view(W['landmarks'].size(0), -1).float()\n",
    "        x_1 = Variable(Q_1, requires_grad = False)\n",
    "        y_2 = Variable(Q_2, requires_grad = False)\n",
    "\n",
    "        y_pred_test = model.forward(x_1)\n",
    "        loss_1 = loss_fn(y_pred_test, y_2)\n",
    "        flag_test.append(loss_1.data[0])\n",
    "        \n",
    "        \n",
    "    flag_train_epoch.append(np.array(flag).mean())\n",
    "    print ('epoch %d, meanerror %f' % (t,  np.array(flag).mean()))"
   ]
  },
  {
   "cell_type": "code",
   "execution_count": 14,
   "metadata": {},
   "outputs": [
    {
     "data": {
      "text/plain": [
       "[<matplotlib.lines.Line2D at 0x119b84190>]"
      ]
     },
     "execution_count": 14,
     "metadata": {},
     "output_type": "execute_result"
    },
    {
     "data": {
      "image/png": "[encoded data removed]",
      "text/plain": [
       "<matplotlib.figure.Figure at 0x109bf9fd0>"
      ]
     },
     "metadata": {},
     "output_type": "display_data"
    }
   ],
   "source": [
    "plt.figure()\n",
    "plt.plot(range(num_epoch), flag_train_epoch)"
   ]
  },
  {
   "cell_type": "code",
   "execution_count": null,
   "metadata": {
    "collapsed": true
   },
   "outputs": [],
   "source": []
  },
  {
   "cell_type": "code",
   "execution_count": null,
   "metadata": {
    "collapsed": true
   },
   "outputs": [],
   "source": []
  },
  {
   "cell_type": "code",
   "execution_count": 15,
   "metadata": {
    "collapsed": true
   },
   "outputs": [],
   "source": [
    "tr_data_test = FaceLandmarksDataset(csv_file=test_landmarks_path,\n",
    "                                           root_dir=test_path, transform=transforms.Compose([\n",
    "                                               #RandomCrop(90),\n",
    "                                               ToTensor()\n",
    "                                           ])\n",
    "                                           )"
   ]
  },
  {
   "cell_type": "code",
   "execution_count": 16,
   "metadata": {
    "collapsed": true
   },
   "outputs": [],
   "source": [
    "import warnings\n",
    "warnings.filterwarnings(\"ignore\")\n",
    "\n",
    "landmarks_frame = pd.read_csv(test_landmarks_path)\n",
    "\n",
    "#n = 60\n",
    "#img_name = landmarks_frame.ix[n, 0]\n",
    "landmarks = landmarks_frame.ix[n, 1:].as_matrix().astype('float')\n",
    "landmarks = landmarks.reshape(-1, 2)\n",
    "\n",
    "\n",
    "def plt_test(i):   \n",
    "    landmarks = landmarks_frame.ix[i, 1:].as_matrix().astype('float')\n",
    "    landmarks = landmarks.reshape(-1, 2)\n",
    "    plt.figure()\n",
    "    a = tr_data_test[i]['image'].float()\n",
    "    a = a.view(-1)\n",
    "    f = predict(model, a)\n",
    "    f_1 = f[::2]\n",
    "    f_2 = f[1::2]\n",
    "    img_name = landmarks_frame.ix[i, 0]\n",
    "    plt.figure()\n",
    "    plt.imshow(io.imread(os.path.join(test_path, img_name)), cmap='gray')\n",
    "    plt.scatter(f_1, f_2, s=10, marker='.', c='b')\n",
    "    #plt.scatter(landmarks[:, 0], landmarks[:, 1], s=10, marker='.', c='r')"
   ]
  },
  {
   "cell_type": "code",
   "execution_count": 18,
   "metadata": {},
   "outputs": [
    {
     "data": {
      "text/plain": [
       "<matplotlib.figure.Figure at 0x11fe903d0>"
      ]
     },
     "metadata": {},
     "output_type": "display_data"
    },
    {
     "data": {
      "image/png": "[encoded data removed]",
      "text/plain": [
       "<matplotlib.figure.Figure at 0x12029d0d0>"
      ]
     },
     "metadata": {},
     "output_type": "display_data"
    }
   ],
   "source": [
    "plt_test(5)"
   ]
  },
  {
   "cell_type": "code",
   "execution_count": null,
   "metadata": {
    "collapsed": true
   },
   "outputs": [],
   "source": [
    "class network_work1(nn.Module):\n",
    "    def __init__(self):\n",
    "        super(network_work1, self).__init__()\n",
    "        self.layer1 = nn.Sequential(\n",
    "            nn.Linear(96*96, 500),\n",
    "            nn.BatchNorm1d(500,500),\n",
    "            nn.ReLU()\n",
    "        )\n",
    "        self.fc = nn.Linear(500,136)\n",
    "\n",
    "    def forward(self, x):\n",
    "        out = self.layer1(x)\n",
    "        out = self.fc(out)\n",
    "        return out"
   ]
  },
  {
   "cell_type": "code",
   "execution_count": null,
   "metadata": {
    "collapsed": true
   },
   "outputs": [],
   "source": [
    "#X - это картинки, y - это координаты точек, 6221 rows in X"
   ]
  },
  {
   "cell_type": "code",
   "execution_count": null,
   "metadata": {
    "collapsed": true
   },
   "outputs": [],
   "source": [
    "X = np.array([[io.imread(os.path.join('dataset/train/', im_name ))] for im_name in landmarks_frame.ix[:, 0]])"
   ]
  },
  {
   "cell_type": "code",
   "execution_count": null,
   "metadata": {
    "collapsed": true
   },
   "outputs": [],
   "source": [
    "X.shape"
   ]
  },
  {
   "cell_type": "code",
   "execution_count": null,
   "metadata": {
    "collapsed": true
   },
   "outputs": [],
   "source": [
    "X = X.reshape(-1,96,96)"
   ]
  },
  {
   "cell_type": "code",
   "execution_count": null,
   "metadata": {
    "collapsed": true,
    "scrolled": true
   },
   "outputs": [],
   "source": [
    "landmarks_frame.head()"
   ]
  },
  {
   "cell_type": "code",
   "execution_count": null,
   "metadata": {
    "collapsed": true
   },
   "outputs": [],
   "source": [
    "landmarks_all = np.array([[landmarks_frame.ix[n, 1:].as_matrix().astype('float')] for n in range(0,landmarks_frame.shape[0])])"
   ]
  },
  {
   "cell_type": "code",
   "execution_count": null,
   "metadata": {
    "collapsed": true
   },
   "outputs": [],
   "source": [
    "y = landmarks_all.reshape(-1,136)"
   ]
  },
  {
   "cell_type": "code",
   "execution_count": null,
   "metadata": {
    "collapsed": true
   },
   "outputs": [],
   "source": [
    "X_train, X_test, y_train, y_test = train_test_split(X, y, test_size=0.33, random_state=_RAND_STATE)"
   ]
  },
  {
   "cell_type": "code",
   "execution_count": null,
   "metadata": {
    "collapsed": true
   },
   "outputs": [],
   "source": [
    "lnn1 = network_work1()\n",
    "\n",
    "loss_func = nn.MSELoss()\n",
    "optimizer = torch.optim.Adam(lnn1.parameters(), lr=_LR)"
   ]
  },
  {
   "cell_type": "code",
   "execution_count": null,
   "metadata": {
    "collapsed": true,
    "scrolled": true
   },
   "outputs": [],
   "source": [
    "loss_train = []\n",
    "for i in range(_EPOCH):\n",
    "    for (image,label) in zip(X_train, y_train):\n",
    "        image = Variable(torch.from_numpy(image))\n",
    "        image = image.float()\n",
    "        image = image.view(-1, 96*96)\n",
    "        label = Variable(torch.from_numpy(label))\n",
    "        label = label.float()\n",
    "        optimizer.zero_grad()\n",
    "        result = lnn1.forward(image)\n",
    "        loss = loss_func(result,label)\n",
    "        loss.backward()\n",
    "        optimizer.step()\n",
    "        if (loss.data.numpy()[0]<_EPS):\n",
    "            break\n",
    "        \n",
    "    if i % 4 == 0:\n",
    "        loss_train.append(loss.data.numpy()[0])\n",
    "        print(loss)"
   ]
  },
  {
   "cell_type": "code",
   "execution_count": null,
   "metadata": {
    "collapsed": true
   },
   "outputs": [],
   "source": [
    "plt.plot(np.array(loss_train), label='Train')\n",
    "plt.ylabel('MSELoss')\n",
    "plt.xlabel('Number of epoch')\n",
    "plt.grid(True)\n",
    "plt.legend(bbox_to_anchor=(1.05, 1), loc=2, borderaxespad=0.)\n",
    "plt.show()"
   ]
  },
  {
   "cell_type": "code",
   "execution_count": null,
   "metadata": {
    "collapsed": true
   },
   "outputs": [],
   "source": [
    "out = lnn1(Variable(torch.from_numpy(X_train).view(-1, 96*96)).float())"
   ]
  },
  {
   "cell_type": "code",
   "execution_count": null,
   "metadata": {
    "collapsed": true
   },
   "outputs": [],
   "source": [
    "out.data"
   ]
  },
  {
   "cell_type": "code",
   "execution_count": null,
   "metadata": {
    "collapsed": true
   },
   "outputs": [],
   "source": [
    "type(out)"
   ]
  },
  {
   "cell_type": "code",
   "execution_count": null,
   "metadata": {
    "collapsed": true
   },
   "outputs": [],
   "source": [
    "out = out.data.numpy()"
   ]
  },
  {
   "cell_type": "code",
   "execution_count": null,
   "metadata": {
    "collapsed": true
   },
   "outputs": [],
   "source": [
    "out = np.array([out[:,::2], out[:,1:][:,::2]])#[x,y]"
   ]
  },
  {
   "cell_type": "code",
   "execution_count": null,
   "metadata": {
    "collapsed": true
   },
   "outputs": [],
   "source": [
    "out.shape"
   ]
  },
  {
   "cell_type": "code",
   "execution_count": null,
   "metadata": {
    "collapsed": true
   },
   "outputs": [],
   "source": [
    "out = out.reshape(-1,68,2)"
   ]
  },
  {
   "cell_type": "code",
   "execution_count": null,
   "metadata": {
    "collapsed": true,
    "scrolled": true
   },
   "outputs": [],
   "source": [
    "show_landmarks(X_train[0],out[0].reshape(-1, 2))"
   ]
  },
  {
   "cell_type": "code",
   "execution_count": null,
   "metadata": {
    "collapsed": true
   },
   "outputs": [],
   "source": [
    "#ну такое"
   ]
  },
  {
   "cell_type": "code",
   "execution_count": null,
   "metadata": {
    "collapsed": true
   },
   "outputs": [],
   "source": []
  }
 ],
 "metadata": {
  "kernelspec": {
   "display_name": "Python 2",
   "language": "python",
   "name": "python2"
  },
  "language_info": {
   "codemirror_mode": {
    "name": "ipython",
    "version": 2
   },
   "file_extension": ".py",
   "mimetype": "text/x-python",
   "name": "python",
   "nbconvert_exporter": "python",
   "pygments_lexer": "ipython2",
   "version": "2.7.13"
  }
 },
 "nbformat": 4,
 "nbformat_minor": 1
}
