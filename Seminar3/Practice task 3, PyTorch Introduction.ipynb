{
 "cells": [
  {
   "cell_type": "markdown",
   "metadata": {},
   "source": [
    "## Семинар 3 \"Определение ключевых точек лица\""
   ]
  },
  {
   "cell_type": "markdown",
   "metadata": {},
   "source": [
    "ФИО: Дегтярев Роман Олегович"
   ]
  },
  {
   "cell_type": "markdown",
   "metadata": {},
   "source": [
    "# Подготовительная задача 1"
   ]
  },
  {
   "cell_type": "markdown",
   "metadata": {},
   "source": [
    "Сделать из линейной регрессии nn.sequental двухслойную сеть"
   ]
  },
  {
   "cell_type": "code",
   "execution_count": 8,
   "metadata": {
    "collapsed": true
   },
   "outputs": [],
   "source": [
    "import torch\n",
    "from torchvision.datasets import MNIST\n",
    "from torchvision import transforms\n",
    "from torch.utils.data import DataLoader\n",
    "from torch.autograd import Variable\n",
    "import torch.nn as nn\n",
    "import torch.nn.functional as F\n",
    "import torch.optim as optim\n",
    "import matplotlib.pyplot as plt\n",
    "import numpy as np\n",
    "import pandas as pd\n",
    "from sklearn.model_selection import train_test_split"
   ]
  },
  {
   "cell_type": "code",
   "execution_count": 3,
   "metadata": {
    "collapsed": true
   },
   "outputs": [],
   "source": [
    "#Parameters:\n",
    "_LR = 0.01\n",
    "_BATCH_SIZE = 32\n",
    "_EPOCH = 20\n",
    "_EPS=1.00000e-02\n",
    "_RAND_STATE = 42"
   ]
  },
  {
   "cell_type": "code",
   "execution_count": 4,
   "metadata": {
    "collapsed": true
   },
   "outputs": [],
   "source": [
    "#Load MNIST\n",
    "to_numpy = lambda x: x.numpy()\n",
    "transform = transforms.Compose([\n",
    "                       transforms.ToTensor(),\n",
    "                       transforms.Normalize((0.1307,), (0.3081,))\n",
    "                    ])\n",
    "train_dataset = MNIST('.', train=True, download=True, transform=transforms.ToTensor())\n",
    "test_dataset = MNIST('.', train=False, transform=transforms.ToTensor())\n",
    "\n",
    "train_loader = DataLoader(train_dataset, batch_size=32, shuffle=True)\n",
    "test_loader = DataLoader(test_dataset, batch_size=32, shuffle=True)"
   ]
  },
  {
   "cell_type": "code",
   "execution_count": 6,
   "metadata": {},
   "outputs": [],
   "source": [
    "\n",
    "# MNIST dataset\n",
    "import torchvision.datasets as dsets\n",
    "mnist_train = dsets.MNIST(root='MNIST_data/', train=True, transform=transforms.ToTensor(), download=True)\n",
    "mnist_test = dsets.MNIST(root='MNIST_data/', train=False, transform=transforms.ToTensor(), download=True)\n",
    "data_loader = torch.utils.data.DataLoader(dataset=mnist_train,batch_size=batch_size, shuffle=True)"
   ]
  },
  {
   "cell_type": "code",
   "execution_count": null,
   "metadata": {
    "collapsed": true
   },
   "outputs": [],
   "source": [
    "#network architecture \n",
    "class network_sigmoid(nn.Module):\n",
    "\n",
    "    def __init__(self):\n",
    "        super(network_sigmoid, self).__init__()\n",
    "        self.layer1 = nn.Sequential(\n",
    "            nn.Linear(784, 100),\n",
    "            nn.Sigmoid()\n",
    "        )\n",
    "        self.layer2 = nn.Sequential(\n",
    "            nn.Linear(100, _BATCH_SIZE),\n",
    "            nn.Sigmoid()\n",
    "        )\n",
    "        self.fc = nn.Linear(_BATCH_SIZE,10)\n",
    "\n",
    "    def forward(self, x):\n",
    "        out = self.layer1(x)\n",
    "        out = self.layer2(out)\n",
    "        out = self.fc(out)\n",
    "        return out"
   ]
  },
  {
   "cell_type": "code",
   "execution_count": null,
   "metadata": {
    "collapsed": true
   },
   "outputs": [],
   "source": [
    "fnn = network_sigmoid()\n",
    "\n",
    "loss_func = nn.CrossEntropyLoss()\n",
    "optimizer = torch.optim.Adam(fnn.parameters(), lr=_LR)"
   ]
  },
  {
   "cell_type": "markdown",
   "metadata": {},
   "source": [
    "# Подготовительная задача 2"
   ]
  },
  {
   "cell_type": "markdown",
   "metadata": {},
   "source": [
    "Используя структуру сети Sequental в pytorch реализовать и обучить классификатор цифр из MNIST\n",
    "(повторить первый и второй пункты из прошлого задания )"
   ]
  },
  {
   "cell_type": "code",
   "execution_count": null,
   "metadata": {
    "collapsed": true
   },
   "outputs": [],
   "source": [
    "loss_train = []\n",
    "for i in range(_EPOCH):\n",
    "    for j,[image,label] in enumerate(train_loader):\n",
    "        image = Variable(image)\n",
    "        label = Variable(label)\n",
    "        image = image.view(-1, 28*28)\n",
    "        #print image.size()\n",
    "        optimizer.zero_grad()\n",
    "        result = fnn.forward(image)\n",
    "        loss = loss_func(result,label)\n",
    "        loss.backward()\n",
    "        optimizer.step()\n",
    "        if (loss.data.numpy()[0]<_EPS):\n",
    "            break\n",
    "        \n",
    "        if j % 1000 == 0:\n",
    "            loss_train.append(loss.data.numpy()[0])\n",
    "            print(loss)"
   ]
  },
  {
   "cell_type": "code",
   "execution_count": null,
   "metadata": {
    "collapsed": true
   },
   "outputs": [],
   "source": [
    "#Network with Sigmoid \n",
    "plt.plot(np.array(loss_train), label='Train')\n",
    "plt.ylabel('CrossEntropyLoss')\n",
    "plt.xlabel('Number of epoch')\n",
    "plt.grid(True)\n",
    "plt.legend(bbox_to_anchor=(1.05, 1), loc=2, borderaxespad=0.)\n",
    "plt.show()"
   ]
  },
  {
   "cell_type": "code",
   "execution_count": null,
   "metadata": {
    "collapsed": true
   },
   "outputs": [],
   "source": [
    "class network_ReLU(nn.Module):\n",
    "\n",
    "    def __init__(self):\n",
    "        super(network_ReLU, self).__init__()\n",
    "        self.layer1 = nn.Sequential(\n",
    "            nn.Linear(784, 100),\n",
    "            nn.ReLU()\n",
    "        )\n",
    "        self.layer2 = nn.Sequential(\n",
    "            nn.Linear(100, _BATCH_SIZE),\n",
    "            nn.ReLU()\n",
    "        )\n",
    "        self.fc = nn.Linear(_BATCH_SIZE,10)\n",
    "\n",
    "    def forward(self, x):\n",
    "        out = self.layer1(x)\n",
    "        out = self.layer2(out)\n",
    "        out = self.fc(out)\n",
    "        return out"
   ]
  },
  {
   "cell_type": "code",
   "execution_count": null,
   "metadata": {
    "collapsed": true
   },
   "outputs": [],
   "source": [
    "snn = network_ReLU()\n",
    "\n",
    "loss_func = nn.CrossEntropyLoss()\n",
    "optimizer = torch.optim.Adam(snn.parameters(), lr=_LR)"
   ]
  },
  {
   "cell_type": "code",
   "execution_count": null,
   "metadata": {
    "collapsed": true
   },
   "outputs": [],
   "source": [
    "loss_train = []\n",
    "for i in range(_EPOCH):\n",
    "    for j,[image,label] in enumerate(train_loader):\n",
    "        image = Variable(image)\n",
    "        label = Variable(label)\n",
    "        image = image.view(-1, 28*28)\n",
    "        #print image.size()\n",
    "        optimizer.zero_grad()\n",
    "        result = snn.forward(image)\n",
    "        loss = loss_func(result,label)\n",
    "        loss.backward()\n",
    "        optimizer.step()\n",
    "        if (loss.data.numpy()[0]<_EPS):\n",
    "            break\n",
    "        \n",
    "        if j % 1000 == 0:\n",
    "            loss_train.append(loss.data.numpy()[0])\n",
    "            #print(loss)"
   ]
  },
  {
   "cell_type": "code",
   "execution_count": null,
   "metadata": {
    "collapsed": true,
    "scrolled": true
   },
   "outputs": [],
   "source": [
    "#Network with ReLU\n",
    "plt.plot(np.array(loss_train), label='Train')\n",
    "plt.ylabel('CrossEntropyLoss')\n",
    "plt.xlabel('Number of epoch')\n",
    "plt.grid(True)\n",
    "plt.legend(bbox_to_anchor=(1.05, 1), loc=2, borderaxespad=0.)\n",
    "plt.show()"
   ]
  },
  {
   "cell_type": "code",
   "execution_count": null,
   "metadata": {
    "collapsed": true
   },
   "outputs": [],
   "source": [
    "#Для ReLU сошлось побыстрее"
   ]
  },
  {
   "cell_type": "markdown",
   "metadata": {},
   "source": [
    "## Задание"
   ]
  },
  {
   "cell_type": "markdown",
   "metadata": {},
   "source": [
    "Используя датасет из архива решите задачу регрессии для поиска 68-ми ключевых точек лица. \n",
    "\n",
    "Для обучения и валидации используйте изображения и разметку из папок train и test соответственно.\n",
    "\n",
    "Попробуйте сети глубины 1 и 2 и разные активации (ELU, RELU и sigmoid)."
   ]
  },
  {
   "cell_type": "code",
   "execution_count": 9,
   "metadata": {},
   "outputs": [],
   "source": [
    "landmarks_frame = pd.read_csv('dataset/train/face_landmarks.csv')"
   ]
  },
  {
   "cell_type": "code",
   "execution_count": 10,
   "metadata": {
    "scrolled": false
   },
   "outputs": [
    {
     "name": "stdout",
     "output_type": "stream",
     "text": [
      "Image name: 109.jpeg\n",
      "Landmarks shape: (68, 2)\n",
      "First 4 Landmarks: [[  7.  41.]\n",
      " [  8.  51.]\n",
      " [ 10.  60.]\n",
      " [ 13.  70.]]\n",
      "(96, 96)\n"
     ]
    },
    {
     "data": {
      "image/png": "[encoded data removed]",
      "text/plain": [
       "<matplotlib.figure.Figure at 0x1121d5050>"
      ]
     },
     "metadata": {},
     "output_type": "display_data"
    }
   ],
   "source": [
    "%matplotlib inline\n",
    "from __future__ import print_function, division\n",
    "import os\n",
    "import torch\n",
    "import pandas as pd\n",
    "from skimage import io, transform\n",
    "import numpy as np\n",
    "import matplotlib.pyplot as plt\n",
    "from torch.utils.data import Dataset, DataLoader\n",
    "from torchvision import transforms, utils\n",
    "\n",
    "# Ignore warnings\n",
    "import warnings\n",
    "warnings.filterwarnings(\"ignore\")\n",
    "\n",
    "landmarks_frame = pd.read_csv('dataset/train/face_landmarks.csv')\n",
    "\n",
    "n = 100\n",
    "img_name = landmarks_frame.ix[n, 0]\n",
    "landmarks = landmarks_frame.ix[n, 1:].as_matrix().astype('float')\n",
    "landmarks = landmarks.reshape(-1, 2)\n",
    "\n",
    "print('Image name: {}'.format(img_name))\n",
    "print('Landmarks shape: {}'.format(landmarks.shape))\n",
    "print('First 4 Landmarks: {}'.format(landmarks[:4]))\n",
    "\n",
    "def show_landmarks(image, landmarks):\n",
    "    \"\"\"Show image with landmarks\"\"\"\n",
    "    plt.imshow(image, cmap='gray')\n",
    "    print(image.shape)\n",
    "    plt.scatter(landmarks[:, 0], landmarks[:, 1], s=10, marker='.', c='b')\n",
    "    plt.pause(0.001)  \n",
    "\n",
    "plt.figure()\n",
    "show_landmarks(io.imread(os.path.join('dataset/train/', img_name)),\n",
    "               landmarks)\n",
    "plt.show()"
   ]
  },
  {
   "cell_type": "code",
   "execution_count": 11,
   "metadata": {
    "collapsed": true
   },
   "outputs": [],
   "source": [
    "class Rescale(object):\n",
    "    \"\"\"Rescale the image in a sample to a given size.\n",
    "\n",
    "    Args:\n",
    "        output_size (tuple or tuple): Desired output size. If tuple, output is\n",
    "            matched to output_size. If int, smaller of image edges is matched\n",
    "            to output_size keeping aspect ratio the same.\n",
    "    \"\"\"\n",
    "\n",
    "    def __init__(self, output_size):\n",
    "        assert isinstance(output_size, (int, tuple))\n",
    "        self.output_size = output_size\n",
    "\n",
    "    def __call__(self, sample):\n",
    "        image, landmarks = sample['image'], sample['landmarks']\n",
    "\n",
    "        h, w = image.shape[:2]\n",
    "        if isinstance(self.output_size, int):\n",
    "            if h > w:\n",
    "                new_h, new_w = self.output_size * h / w, self.output_size\n",
    "            else:\n",
    "                new_h, new_w = self.output_size, self.output_size * w / h\n",
    "        else:\n",
    "            new_h, new_w = self.output_size\n",
    "\n",
    "        new_h, new_w = int(new_h), int(new_w)\n",
    "\n",
    "        img = transform.resize(image, (new_h, new_w))\n",
    "\n",
    "        # h and w are swapped for landmarks because for images,\n",
    "        # x and y axes are axis 1 and 0 respectively\n",
    "        landmarks = landmarks * [new_w / w, new_h / h]\n",
    "\n",
    "        return {'image': img, 'landmarks': landmarks}\n",
    "\n",
    "\n",
    "class RandomCrop(object):\n",
    "    \"\"\"Crop randomly the image in a sample.\n",
    "\n",
    "    Args:\n",
    "        output_size (tuple or int): Desired output size. If int, square crop\n",
    "            is made.\n",
    "    \"\"\"\n",
    "\n",
    "    def __init__(self, output_size):\n",
    "        assert isinstance(output_size, (int, tuple))\n",
    "        if isinstance(output_size, int):\n",
    "            self.output_size = (output_size, output_size)\n",
    "        else:\n",
    "            assert len(output_size) == 2\n",
    "            self.output_size = output_size\n",
    "\n",
    "    def __call__(self, sample):\n",
    "        image, landmarks = sample['image'], sample['landmarks']\n",
    "\n",
    "        h, w = image.shape[:2]\n",
    "        new_h, new_w = self.output_size\n",
    "\n",
    "        top = np.random.randint(0, h - new_h)\n",
    "        left = np.random.randint(0, w - new_w)\n",
    "\n",
    "        image = image[top: top + new_h,\n",
    "                      left: left + new_w]\n",
    "\n",
    "        landmarks = landmarks - [left, top]\n",
    "\n",
    "        return {'image': image, 'landmarks': landmarks}\n",
    "\n",
    "\n",
    "class ToTensor(object):\n",
    "    \"\"\"Convert ndarrays in sample to Tensors.\"\"\"\n",
    "\n",
    "    def __call__(self, sample):\n",
    "        image, landmarks = sample['image'], sample['landmarks']\n",
    " \n",
    "        # swap color axis because\n",
    "        # numpy image: H x W x C\n",
    "        # torch image: C X H X W\n",
    "        #image = image.transpose((0, 1))\n",
    "        return {'image': torch.from_numpy(image),\n",
    "                'landmarks': torch.from_numpy(landmarks)}"
   ]
  },
  {
   "cell_type": "code",
   "execution_count": 12,
   "metadata": {
    "collapsed": true
   },
   "outputs": [],
   "source": [
    "class FaceLandmarksDataset(Dataset):\n",
    "    \"\"\"Face Landmarks dataset.\"\"\"\n",
    "\n",
    "    def __init__(self, csv_file, root_dir, transform=None):\n",
    "        \"\"\"\n",
    "        Args:\n",
    "            csv_file (string): Path to the csv file with annotations.\n",
    "            root_dir (string): Directory with all the images.\n",
    "            transform (callable, optional): Optional transform to be applied\n",
    "                on a sample.\n",
    "        \"\"\"\n",
    "        self.landmarks_frame = pd.read_csv(csv_file)\n",
    "        self.root_dir = root_dir\n",
    "        self.transform = transform\n",
    "\n",
    "    def __len__(self):\n",
    "        return len(self.landmarks_frame)\n",
    "\n",
    "    def __getitem__(self, idx):\n",
    "        img_name = os.path.join(self.root_dir, self.landmarks_frame.ix[idx, 0])\n",
    "        image = io.imread(img_name)\n",
    "        landmarks = self.landmarks_frame.ix[idx, 1:].as_matrix().astype('float')\n",
    "        landmarks = landmarks.reshape(-1, 2)\n",
    "        sample = {'image': image, 'landmarks': landmarks}\n",
    "\n",
    "        if self.transform:\n",
    "            sample = self.transform(sample)\n",
    "\n",
    "        return sample"
   ]
  },
  {
   "cell_type": "code",
   "execution_count": 13,
   "metadata": {
    "collapsed": true
   },
   "outputs": [],
   "source": [
    "train_landmarks_path = 'dataset/train/face_landmarks.csv'\n",
    "train_path = 'dataset/train/'\n",
    "test_landmarks_path = 'dataset/test/face_landmarks.csv'\n",
    "test_path = 'dataset/test'"
   ]
  },
  {
   "cell_type": "code",
   "execution_count": 14,
   "metadata": {},
   "outputs": [
    {
     "name": "stdout",
     "output_type": "stream",
     "text": [
      "0 torch.Size([96, 96]) torch.Size([68, 2])\n",
      "1 torch.Size([96, 96]) torch.Size([68, 2])\n",
      "2 torch.Size([96, 96]) torch.Size([68, 2])\n",
      "3 torch.Size([96, 96]) torch.Size([68, 2])\n"
     ]
    }
   ],
   "source": [
    "train = FaceLandmarksDataset(csv_file=train_landmarks_path,\n",
    "                                           root_dir= train_path, transform=transforms.Compose([\n",
    "                                               #RandomCrop(90),\n",
    "                                               ToTensor()\n",
    "                                           ])\n",
    "                                           )\n",
    "\n",
    "for i in range(len(train)):\n",
    "    sample = train[i]\n",
    "\n",
    "    print(i, sample['image'].float().size(), sample['landmarks'].float().size())\n",
    " \n",
    "    if i == 3:\n",
    "        plt.show()\n",
    "\n",
    "        break"
   ]
  },
  {
   "cell_type": "code",
   "execution_count": 15,
   "metadata": {
    "collapsed": true
   },
   "outputs": [],
   "source": [
    "dataloader = DataLoader(train, batch_size=40,\n",
    "                        shuffle=True, num_workers=4)"
   ]
  },
  {
   "cell_type": "code",
   "execution_count": 24,
   "metadata": {},
   "outputs": [
    {
     "name": "stdout",
     "output_type": "stream",
     "text": [
      "epoch 0, meanerror 401.970017\n",
      "epoch 1, meanerror 209.769831\n",
      "epoch 2, meanerror 145.684675\n",
      "epoch 3, meanerror 113.645134\n",
      "epoch 4, meanerror 94.416018\n",
      "epoch 5, meanerror 81.599116\n",
      "epoch 6, meanerror 72.441077\n",
      "epoch 7, meanerror 65.575171\n",
      "epoch 8, meanerror 60.235337\n",
      "epoch 9, meanerror 55.961432\n"
     ]
    }
   ],
   "source": [
    "D_in, H, D_out = 96*96, 330, 136\n",
    "\n",
    "num_epoch = 10\n",
    "def predict(model, x_val):\n",
    "    \n",
    "    x = Variable(x_val, requires_grad=False)\n",
    "    output = model.forward(x)\n",
    "    return output.data.numpy()\n",
    "\n",
    "\n",
    "model = torch.nn.Sequential(\n",
    "          torch.nn.Linear(D_in, H),\n",
    "          torch.nn.Sigmoid(),\n",
    "          torch.nn.Linear(H, D_out)\n",
    "        )\n",
    "\n",
    "loss_fn = torch.nn.MSELoss(size_average=True)\n",
    "\n",
    "learning_rate = 0.01\n",
    "error = []\n",
    "error_train = []\n",
    "optimizer =  torch.optim.SGD(model.parameters(), lr=learning_rate)\n",
    "for t in range(num_epoch):\n",
    "    for T in dataloader:\n",
    "        X = T['image'].view(T['image'].size(0), -1).float()\n",
    "        Y = T['landmarks'].view(T['landmarks'].size(0), -1).float()\n",
    "        x = Variable(X, requires_grad=False)\n",
    "        y = Variable(Y, requires_grad=False)\n",
    "        \n",
    "        y_pred = model.forward(x)\n",
    "\n",
    "        loss =  loss_fn(y_pred, y)\n",
    "        error.append(loss.data[0])\n",
    "        optimizer.zero_grad()\n",
    "        \n",
    "        loss.backward()\n",
    "        \n",
    "        optimizer.step()\n",
    "    print ('epoch %d, meanerror %f' % (t,  np.array(error).mean()))\n",
    "    error_train.append(np.array(error).mean())"
   ]
  },
  {
   "cell_type": "code",
   "execution_count": 25,
   "metadata": {},
   "outputs": [
    {
     "data": {
      "text/plain": [
       "[<matplotlib.lines.Line2D at 0x110b31a90>]"
      ]
     },
     "execution_count": 25,
     "metadata": {},
     "output_type": "execute_result"
    },
    {
     "data": {
      "image/png": "[encoded data removed]",
      "text/plain": [
       "<matplotlib.figure.Figure at 0x1127a6f90>"
      ]
     },
     "metadata": {},
     "output_type": "display_data"
    }
   ],
   "source": [
    "plt.figure()\n",
    "plt.plot(error_train)"
   ]
  },
  {
   "cell_type": "code",
   "execution_count": 26,
   "metadata": {
    "collapsed": true
   },
   "outputs": [],
   "source": [
    "test = FaceLandmarksDataset(csv_file=test_landmarks_path,\n",
    "                                               root_dir=test_path, transform=transforms.Compose([\n",
    "                                                   #RandomCrop(90),\n",
    "                                                   ToTensor()\n",
    "                                               ])\n",
    "                                               )"
   ]
  },
  {
   "cell_type": "code",
   "execution_count": 27,
   "metadata": {},
   "outputs": [],
   "source": [
    "import warnings\n",
    "warnings.filterwarnings(\"ignore\")\n",
    "\n",
    "landmarks_frame = pd.read_csv(test_landmarks_path)\n",
    "\n",
    "#n = 60\n",
    "#img_name = landmarks_frame.ix[n, 0]\n",
    "landmarks = landmarks_frame.ix[n, 1:].as_matrix().astype('float')\n",
    "landmarks = landmarks.reshape(-1, 2)\n",
    "\n",
    "\n",
    "def plt_test(i):   \n",
    "    landmarks = landmarks_frame.ix[i, 1:].as_matrix().astype('float')\n",
    "    landmarks = landmarks.reshape(-1, 2)\n",
    "    plt.figure()\n",
    "    a = test[i]['image'].float()\n",
    "    a = a.view(-1)\n",
    "    f = predict(model, a)\n",
    "    f_1 = f[::2]\n",
    "    f_2 = f[1::2]\n",
    "    img_name = landmarks_frame.ix[i, 0]\n",
    "    plt.figure()\n",
    "    plt.imshow(io.imread(os.path.join(test_path, img_name)), cmap='gray')\n",
    "    plt.scatter(f_1, f_2, s=10, marker='.', c='b')\n",
    "    #plt.scatter(landmarks[:, 0], landmarks[:, 1], s=10, marker='.', c='r')"
   ]
  },
  {
   "cell_type": "code",
   "execution_count": 28,
   "metadata": {
    "scrolled": true
   },
   "outputs": [
    {
     "data": {
      "text/plain": [
       "<matplotlib.figure.Figure at 0x1176cd410>"
      ]
     },
     "metadata": {},
     "output_type": "display_data"
    },
    {
     "data": {
      "image/png": "[encoded data removed]",
      "text/plain": [
       "<matplotlib.figure.Figure at 0x117564090>"
      ]
     },
     "metadata": {},
     "output_type": "display_data"
    }
   ],
   "source": [
    "plt_test(5)"
   ]
  },
  {
   "cell_type": "code",
   "execution_count": null,
   "metadata": {
    "collapsed": true
   },
   "outputs": [],
   "source": []
  }
 ],
 "metadata": {
  "kernelspec": {
   "display_name": "Python 2",
   "language": "python",
   "name": "python2"
  },
  "language_info": {
   "codemirror_mode": {
    "name": "ipython",
    "version": 2
   },
   "file_extension": ".py",
   "mimetype": "text/x-python",
   "name": "python",
   "nbconvert_exporter": "python",
   "pygments_lexer": "ipython2",
   "version": "2.7.13"
  }
 },
 "nbformat": 4,
 "nbformat_minor": 1
}
